{
 "cells": [
  {
   "cell_type": "markdown",
   "id": "536c5f72",
   "metadata": {},
   "source": [
    "# Connecting to a mysql server from python\n",
    "\n",
    "First of all we'll need to install the `mysql-connector-python` package.\n",
    "\n",
    "We can connect to the server without especifying a database, and create users, databases, and so on...\n",
    "\n",
    "It is not necesary to provide a port for connecting. The default is 3306, but on my machine I have the test server on the 3307 port."
   ]
  },
  {
   "cell_type": "code",
   "execution_count": 5,
   "id": "e8affb77",
   "metadata": {},
   "outputs": [
    {
     "name": "stdout",
     "output_type": "stream",
     "text": [
      "Using default tag: latest\n"
     ]
    },
    {
     "name": "stderr",
     "output_type": "stream",
     "text": [
      "error during connect: This error may indicate that the docker daemon is not running.: Post \"http://%2F%2F.%2Fpipe%2Fdocker_engine/v1.24/images/create?fromImage=mysql&tag=latest\": open //./pipe/docker_engine: The system cannot find the file specified.\n",
      "The system cannot find the file specified.\n"
     ]
    }
   ],
   "source": [
    "! docker pull mysql\n",
    "! docker run --name some-mysql -p 3306:3306 -e MYSQL_ROOT_PASSWORD=<password> -d mysql\n"
   ]
  },
  {
   "cell_type": "code",
   "execution_count": 4,
   "id": "4d6ebc3b",
   "metadata": {},
   "outputs": [
    {
     "ename": "InterfaceError",
     "evalue": "2003: Can't connect to MySQL server on 'localhost:3306' (10061 No connection could be made because the target machine actively refused it)",
     "output_type": "error",
     "traceback": [
      "\u001b[1;31m---------------------------------------------------------------------------\u001b[0m",
      "\u001b[1;31mConnectionRefusedError\u001b[0m                    Traceback (most recent call last)",
      "\u001b[1;32mc:\\Users\\rober\\anaconda3\\envs\\mysql-env\\lib\\site-packages\\mysql\\connector\\network.py\u001b[0m in \u001b[0;36mopen_connection\u001b[1;34m(self)\u001b[0m\n\u001b[0;32m    528\u001b[0m             \u001b[0mself\u001b[0m\u001b[1;33m.\u001b[0m\u001b[0msock\u001b[0m\u001b[1;33m.\u001b[0m\u001b[0msettimeout\u001b[0m\u001b[1;33m(\u001b[0m\u001b[0mself\u001b[0m\u001b[1;33m.\u001b[0m\u001b[0m_connection_timeout\u001b[0m\u001b[1;33m)\u001b[0m\u001b[1;33m\u001b[0m\u001b[1;33m\u001b[0m\u001b[0m\n\u001b[1;32m--> 529\u001b[1;33m             \u001b[0mself\u001b[0m\u001b[1;33m.\u001b[0m\u001b[0msock\u001b[0m\u001b[1;33m.\u001b[0m\u001b[0mconnect\u001b[0m\u001b[1;33m(\u001b[0m\u001b[0msockaddr\u001b[0m\u001b[1;33m)\u001b[0m\u001b[1;33m\u001b[0m\u001b[1;33m\u001b[0m\u001b[0m\n\u001b[0m\u001b[0;32m    530\u001b[0m         \u001b[1;32mexcept\u001b[0m \u001b[0mIOError\u001b[0m \u001b[1;32mas\u001b[0m \u001b[0merr\u001b[0m\u001b[1;33m:\u001b[0m\u001b[1;33m\u001b[0m\u001b[1;33m\u001b[0m\u001b[0m\n",
      "\u001b[1;31mConnectionRefusedError\u001b[0m: [WinError 10061] No connection could be made because the target machine actively refused it",
      "\nDuring handling of the above exception, another exception occurred:\n",
      "\u001b[1;31mInterfaceError\u001b[0m                            Traceback (most recent call last)",
      "\u001b[1;32m~\\AppData\\Local\\Temp\\ipykernel_20872\\204797684.py\u001b[0m in \u001b[0;36m<module>\u001b[1;34m\u001b[0m\n\u001b[0;32m      5\u001b[0m     \u001b[1;31m# port=3307,\u001b[0m\u001b[1;33m\u001b[0m\u001b[1;33m\u001b[0m\u001b[1;33m\u001b[0m\u001b[0m\n\u001b[0;32m      6\u001b[0m     \u001b[0muser\u001b[0m\u001b[1;33m=\u001b[0m\u001b[1;34m\"user\"\u001b[0m\u001b[1;33m,\u001b[0m\u001b[1;33m\u001b[0m\u001b[1;33m\u001b[0m\u001b[0m\n\u001b[1;32m----> 7\u001b[1;33m     \u001b[0mpassword\u001b[0m\u001b[1;33m=\u001b[0m\u001b[1;34m\"password\"\u001b[0m\u001b[1;33m\u001b[0m\u001b[1;33m\u001b[0m\u001b[0m\n\u001b[0m\u001b[0;32m      8\u001b[0m )\n\u001b[0;32m      9\u001b[0m \u001b[1;33m\u001b[0m\u001b[0m\n",
      "\u001b[1;32mc:\\Users\\rober\\anaconda3\\envs\\mysql-env\\lib\\site-packages\\mysql\\connector\\__init__.py\u001b[0m in \u001b[0;36mconnect\u001b[1;34m(*args, **kwargs)\u001b[0m\n\u001b[0;32m    175\u001b[0m     \u001b[1;32mif\u001b[0m \u001b[0mHAVE_CEXT\u001b[0m \u001b[1;32mand\u001b[0m \u001b[1;32mnot\u001b[0m \u001b[0muse_pure\u001b[0m\u001b[1;33m:\u001b[0m\u001b[1;33m\u001b[0m\u001b[1;33m\u001b[0m\u001b[0m\n\u001b[0;32m    176\u001b[0m         \u001b[1;32mreturn\u001b[0m \u001b[0mCMySQLConnection\u001b[0m\u001b[1;33m(\u001b[0m\u001b[1;33m*\u001b[0m\u001b[0margs\u001b[0m\u001b[1;33m,\u001b[0m \u001b[1;33m**\u001b[0m\u001b[0mkwargs\u001b[0m\u001b[1;33m)\u001b[0m\u001b[1;33m\u001b[0m\u001b[1;33m\u001b[0m\u001b[0m\n\u001b[1;32m--> 177\u001b[1;33m     \u001b[1;32mreturn\u001b[0m \u001b[0mMySQLConnection\u001b[0m\u001b[1;33m(\u001b[0m\u001b[1;33m*\u001b[0m\u001b[0margs\u001b[0m\u001b[1;33m,\u001b[0m \u001b[1;33m**\u001b[0m\u001b[0mkwargs\u001b[0m\u001b[1;33m)\u001b[0m\u001b[1;33m\u001b[0m\u001b[1;33m\u001b[0m\u001b[0m\n\u001b[0m\u001b[0;32m    178\u001b[0m \u001b[0mConnect\u001b[0m \u001b[1;33m=\u001b[0m \u001b[0mconnect\u001b[0m  \u001b[1;31m# pylint: disable=C0103\u001b[0m\u001b[1;33m\u001b[0m\u001b[1;33m\u001b[0m\u001b[0m\n\u001b[0;32m    179\u001b[0m \u001b[1;33m\u001b[0m\u001b[0m\n",
      "\u001b[1;32mc:\\Users\\rober\\anaconda3\\envs\\mysql-env\\lib\\site-packages\\mysql\\connector\\connection.py\u001b[0m in \u001b[0;36m__init__\u001b[1;34m(self, *args, **kwargs)\u001b[0m\n\u001b[0;32m    102\u001b[0m         \u001b[1;32mif\u001b[0m \u001b[0mkwargs\u001b[0m\u001b[1;33m:\u001b[0m\u001b[1;33m\u001b[0m\u001b[1;33m\u001b[0m\u001b[0m\n\u001b[0;32m    103\u001b[0m             \u001b[1;32mtry\u001b[0m\u001b[1;33m:\u001b[0m\u001b[1;33m\u001b[0m\u001b[1;33m\u001b[0m\u001b[0m\n\u001b[1;32m--> 104\u001b[1;33m                 \u001b[0mself\u001b[0m\u001b[1;33m.\u001b[0m\u001b[0mconnect\u001b[0m\u001b[1;33m(\u001b[0m\u001b[1;33m**\u001b[0m\u001b[0mkwargs\u001b[0m\u001b[1;33m)\u001b[0m\u001b[1;33m\u001b[0m\u001b[1;33m\u001b[0m\u001b[0m\n\u001b[0m\u001b[0;32m    105\u001b[0m             \u001b[1;32mexcept\u001b[0m\u001b[1;33m:\u001b[0m\u001b[1;33m\u001b[0m\u001b[1;33m\u001b[0m\u001b[0m\n\u001b[0;32m    106\u001b[0m                 \u001b[1;31m# Tidy-up underlying socket on failure\u001b[0m\u001b[1;33m\u001b[0m\u001b[1;33m\u001b[0m\u001b[1;33m\u001b[0m\u001b[0m\n",
      "\u001b[1;32mc:\\Users\\rober\\anaconda3\\envs\\mysql-env\\lib\\site-packages\\mysql\\connector\\abstracts.py\u001b[0m in \u001b[0;36mconnect\u001b[1;34m(self, **kwargs)\u001b[0m\n\u001b[0;32m    779\u001b[0m \u001b[1;33m\u001b[0m\u001b[0m\n\u001b[0;32m    780\u001b[0m         \u001b[0mself\u001b[0m\u001b[1;33m.\u001b[0m\u001b[0mdisconnect\u001b[0m\u001b[1;33m(\u001b[0m\u001b[1;33m)\u001b[0m\u001b[1;33m\u001b[0m\u001b[1;33m\u001b[0m\u001b[0m\n\u001b[1;32m--> 781\u001b[1;33m         \u001b[0mself\u001b[0m\u001b[1;33m.\u001b[0m\u001b[0m_open_connection\u001b[0m\u001b[1;33m(\u001b[0m\u001b[1;33m)\u001b[0m\u001b[1;33m\u001b[0m\u001b[1;33m\u001b[0m\u001b[0m\n\u001b[0m\u001b[0;32m    782\u001b[0m         \u001b[1;31m# Server does not allow to run any other statement different from ALTER\u001b[0m\u001b[1;33m\u001b[0m\u001b[1;33m\u001b[0m\u001b[1;33m\u001b[0m\u001b[0m\n\u001b[0;32m    783\u001b[0m         \u001b[1;31m# when user's password has been expired.\u001b[0m\u001b[1;33m\u001b[0m\u001b[1;33m\u001b[0m\u001b[1;33m\u001b[0m\u001b[0m\n",
      "\u001b[1;32mc:\\Users\\rober\\anaconda3\\envs\\mysql-env\\lib\\site-packages\\mysql\\connector\\connection.py\u001b[0m in \u001b[0;36m_open_connection\u001b[1;34m(self)\u001b[0m\n\u001b[0;32m    282\u001b[0m         \u001b[0mself\u001b[0m\u001b[1;33m.\u001b[0m\u001b[0m_socket\u001b[0m \u001b[1;33m=\u001b[0m \u001b[0mself\u001b[0m\u001b[1;33m.\u001b[0m\u001b[0m_get_connection\u001b[0m\u001b[1;33m(\u001b[0m\u001b[1;33m)\u001b[0m\u001b[1;33m\u001b[0m\u001b[1;33m\u001b[0m\u001b[0m\n\u001b[0;32m    283\u001b[0m         \u001b[1;32mtry\u001b[0m\u001b[1;33m:\u001b[0m\u001b[1;33m\u001b[0m\u001b[1;33m\u001b[0m\u001b[0m\n\u001b[1;32m--> 284\u001b[1;33m             \u001b[0mself\u001b[0m\u001b[1;33m.\u001b[0m\u001b[0m_socket\u001b[0m\u001b[1;33m.\u001b[0m\u001b[0mopen_connection\u001b[0m\u001b[1;33m(\u001b[0m\u001b[1;33m)\u001b[0m\u001b[1;33m\u001b[0m\u001b[1;33m\u001b[0m\u001b[0m\n\u001b[0m\u001b[0;32m    285\u001b[0m             \u001b[0mself\u001b[0m\u001b[1;33m.\u001b[0m\u001b[0m_do_handshake\u001b[0m\u001b[1;33m(\u001b[0m\u001b[1;33m)\u001b[0m\u001b[1;33m\u001b[0m\u001b[1;33m\u001b[0m\u001b[0m\n\u001b[0;32m    286\u001b[0m             self._do_auth(self._user, self._password,\n",
      "\u001b[1;32mc:\\Users\\rober\\anaconda3\\envs\\mysql-env\\lib\\site-packages\\mysql\\connector\\network.py\u001b[0m in \u001b[0;36mopen_connection\u001b[1;34m(self)\u001b[0m\n\u001b[0;32m    530\u001b[0m         \u001b[1;32mexcept\u001b[0m \u001b[0mIOError\u001b[0m \u001b[1;32mas\u001b[0m \u001b[0merr\u001b[0m\u001b[1;33m:\u001b[0m\u001b[1;33m\u001b[0m\u001b[1;33m\u001b[0m\u001b[0m\n\u001b[0;32m    531\u001b[0m             raise errors.InterfaceError(\n\u001b[1;32m--> 532\u001b[1;33m                 errno=2003, values=(self.get_address(), _strioerror(err)))\n\u001b[0m\u001b[0;32m    533\u001b[0m         \u001b[1;32mexcept\u001b[0m \u001b[0mException\u001b[0m \u001b[1;32mas\u001b[0m \u001b[0merr\u001b[0m\u001b[1;33m:\u001b[0m\u001b[1;33m\u001b[0m\u001b[1;33m\u001b[0m\u001b[0m\n\u001b[0;32m    534\u001b[0m             \u001b[1;32mraise\u001b[0m \u001b[0merrors\u001b[0m\u001b[1;33m.\u001b[0m\u001b[0mOperationalError\u001b[0m\u001b[1;33m(\u001b[0m\u001b[0mstr\u001b[0m\u001b[1;33m(\u001b[0m\u001b[0merr\u001b[0m\u001b[1;33m)\u001b[0m\u001b[1;33m)\u001b[0m\u001b[1;33m\u001b[0m\u001b[1;33m\u001b[0m\u001b[0m\n",
      "\u001b[1;31mInterfaceError\u001b[0m: 2003: Can't connect to MySQL server on 'localhost:3306' (10061 No connection could be made because the target machine actively refused it)"
     ]
    }
   ],
   "source": [
    "import mysql.connector\n",
    "\n",
    "mydb = mysql.connector.connect(\n",
    "    host=\"localhost\",\n",
    "    port=3306,\n",
    "    user=\"root\",\n",
    "    password=\"<password>\",\n",
    "    database=\"<database>\"\n",
    ")\n",
    "\n",
    "mycursor = mydb.cursor()\n",
    "\n",
    "mycursor.execute(\"SHOW DATABASES\")\n",
    "\n",
    "for db in mycursor:\n",
    "    print(db)"
   ]
  },
  {
   "cell_type": "code",
   "execution_count": null,
   "id": "6807252e",
   "metadata": {},
   "outputs": [],
   "source": [
    "mycursor.execute(\"CREATE DATABASE IF NOT EXISTS db\")"
   ]
  },
  {
   "cell_type": "markdown",
   "id": "86409a7a",
   "metadata": {},
   "source": [
    "Usually when connecting to the server we'll provide the database name so all operations will be done on it."
   ]
  },
  {
   "cell_type": "code",
   "execution_count": null,
   "id": "cfe33692",
   "metadata": {},
   "outputs": [],
   "source": [
    "import mysql.connector\n",
    "\n",
    "mydb = mysql.connector.connect(\n",
    "    host=\"localhost\",\n",
    "    port=3307,\n",
    "    user=\"user\",\n",
    "    password=\"password\",\n",
    "    database=\"db\"\n",
    ")\n",
    "mycursor = mydb.cursor(buffered=True)"
   ]
  },
  {
   "cell_type": "markdown",
   "id": "8ee36fbd",
   "metadata": {},
   "source": [
    "# Table creation\n",
    "In SQL databases, before starting to store data, tables must be created providing the definition of the data to manage"
   ]
  },
  {
   "cell_type": "code",
   "execution_count": null,
   "id": "33a8c7e4",
   "metadata": {},
   "outputs": [],
   "source": [
    "mycursor.execute(\"CREATE TABLE IF NOT EXISTS customers (name VARCHAR(255), address VARCHAR(255), age INT)\")"
   ]
  },
  {
   "cell_type": "code",
   "execution_count": null,
   "id": "8df8ac06",
   "metadata": {},
   "outputs": [],
   "source": [
    "mycursor.execute(\"SHOW TABLES\")\n",
    "\n",
    "for x in mycursor:\n",
    "    print(x)"
   ]
  },
  {
   "cell_type": "markdown",
   "id": "831d4117",
   "metadata": {},
   "source": [
    "Normally every table has a primary key. It should be added when creating the table, but we can also modify the table after creation"
   ]
  },
  {
   "cell_type": "code",
   "execution_count": null,
   "id": "0e9bb607",
   "metadata": {},
   "outputs": [],
   "source": [
    "mycursor.execute(\"ALTER TABLE customers ADD COLUMN id INT AUTO_INCREMENT PRIMARY KEY\")"
   ]
  },
  {
   "cell_type": "markdown",
   "id": "a16229f6",
   "metadata": {},
   "source": [
    "# Inserting Data"
   ]
  },
  {
   "cell_type": "code",
   "execution_count": null,
   "id": "37a5e8f6",
   "metadata": {},
   "outputs": [],
   "source": [
    "sql = \"INSERT INTO customers (name, address, age) VALUES (%s, %s, %s)\""
   ]
  },
  {
   "cell_type": "code",
   "execution_count": null,
   "id": "dd215fff",
   "metadata": {},
   "outputs": [],
   "source": [
    "val = (\"Ruben\", \"IFISC Basement\", 42)\n",
    "mycursor.execute(sql, val)\n",
    "\n",
    "mydb.commit()\n",
    "\n",
    "print(mycursor.rowcount, \"record(s) inserted.\")"
   ]
  },
  {
   "cell_type": "markdown",
   "id": "a5a7b031",
   "metadata": {},
   "source": [
    "**Important!**: Notice the statement: mydb.commit(). It is required to make the changes, otherwise no changes are made to the table."
   ]
  },
  {
   "cell_type": "code",
   "execution_count": null,
   "id": "6804ce3e",
   "metadata": {},
   "outputs": [],
   "source": [
    "val = (\"Antonia\", \"IFISC Basement\", 30)\n",
    "mycursor.execute(sql, val)\n",
    "\n",
    "val = (\"Emilio\", \"IFISC 2nd Floor\", 89)\n",
    "mycursor.execute(sql, val)\n",
    "\n",
    "mydb.commit()\n",
    "\n",
    "print(mycursor.rowcount, \"record(s) inserted.\")"
   ]
  },
  {
   "cell_type": "markdown",
   "id": "6367b9ab",
   "metadata": {},
   "source": [
    "**Note**: rowcount only takes into account the rows affected during last execution...\n",
    "\n",
    "A better way to insert many values: Use the **executemany** method"
   ]
  },
  {
   "cell_type": "code",
   "execution_count": null,
   "id": "1aa8562a",
   "metadata": {},
   "outputs": [],
   "source": [
    "val = [\n",
    "  ('Peter', 'Lowstreet 4', 120),\n",
    "  ('Amy', 'Apple st 652', 200),\n",
    "  ('Hannah', 'Mountain 21', 20),\n",
    "  ('Michael', 'Valley 345', 40),\n",
    "  ('Sandy', 'Ocean blvd 2', 30),\n",
    "  ('Betty', 'Green Grass 1', 50),\n",
    "  ('Richard', 'Sky st 331', 82),\n",
    "  ('Susan', 'One way 98', 240),\n",
    "  ('Vicky', 'Yellow Garden 2', 10),\n",
    "  ('Ben', 'Park Lane 38', 18),\n",
    "  ('William', 'Central st 954', 2),\n",
    "  ('Chuck', 'Main Road 989', 15),\n",
    "  ('Viola', 'Sideway 1633', 20)\n",
    "]\n",
    "\n",
    "mycursor.executemany(sql, val)\n",
    "\n",
    "mydb.commit()\n",
    "\n",
    "print(mycursor.rowcount, \"record(s) inserted.\")"
   ]
  },
  {
   "cell_type": "markdown",
   "id": "6d4b5f53",
   "metadata": {},
   "source": [
    "# Queries"
   ]
  },
  {
   "cell_type": "code",
   "execution_count": null,
   "id": "22d80b86",
   "metadata": {},
   "outputs": [],
   "source": [
    "mycursor.execute(\"SELECT name, address FROM customers\") # *, LIMIT 5, ORDER BY name, DESC\n",
    "\n",
    "mycursor.fetchall()\n"
   ]
  },
  {
   "cell_type": "code",
   "execution_count": null,
   "id": "3169fde4",
   "metadata": {},
   "outputs": [],
   "source": [
    "mycursor.execute(\"SELECT * FROM customers WHERE address ='IFISC Basement'\") # LIKE '%IFISC%', AND, OR, age>=18\n",
    "mycursor.fetchall()"
   ]
  },
  {
   "cell_type": "markdown",
   "id": "2d13bca8",
   "metadata": {},
   "source": [
    "# Modifying records\n",
    "\n",
    "Use the UPDATE and DELETE queries.\n",
    "\n",
    "It is very important to remember:\n",
    " * Commit the changes\n",
    " * Provide a WHERE clause, unless you want to modify or delete all the table.\n"
   ]
  },
  {
   "cell_type": "code",
   "execution_count": null,
   "id": "a7e55c1a",
   "metadata": {},
   "outputs": [],
   "source": [
    "mycursor.execute(\"DELETE FROM customers WHERE name = 'William'\")\n",
    "\n",
    "mydb.commit()\n",
    "\n",
    "print(mycursor.rowcount, \"record(s) deleted.\")"
   ]
  },
  {
   "cell_type": "code",
   "execution_count": null,
   "id": "34a0551d",
   "metadata": {},
   "outputs": [],
   "source": [
    "mycursor.execute(\"UPDATE customers SET address = 'IFISC Basement S-15' WHERE address = 'IFISC Basement'\")\n",
    "\n",
    "mydb.commit()\n",
    "\n",
    "print(mycursor.rowcount, \"record(s) updated.\")"
   ]
  },
  {
   "cell_type": "markdown",
   "id": "7317ee40",
   "metadata": {},
   "source": [
    "# Queries from more than one table: JOIN\n",
    "You can combine rows from two or more tables, based on a related column between them, by using a JOIN statement\n",
    "\n",
    "First let's create a favorite_car table and add a foreing key for that table to the customers table"
   ]
  },
  {
   "cell_type": "code",
   "execution_count": null,
   "id": "b87be68d",
   "metadata": {},
   "outputs": [],
   "source": [
    "mycursor.execute(\"CREATE TABLE IF NOT EXISTS cars (brand VARCHAR(255), id INT AUTO_INCREMENT PRIMARY KEY)\")\n",
    "mydb.commit()"
   ]
  },
  {
   "cell_type": "code",
   "execution_count": null,
   "id": "1be0ea86",
   "metadata": {},
   "outputs": [],
   "source": [
    "mycursor.execute(\"ALTER TABLE customers ADD favorite_car INT\")\n",
    "mycursor.execute(\"ALTER TABLE customers ADD FOREIGN KEY (favorite_car) REFERENCES cars(id)\")"
   ]
  },
  {
   "cell_type": "markdown",
   "id": "6ed08e37",
   "metadata": {},
   "source": [
    "Now let's populate the new table and add the information about favorite cars to our customers table"
   ]
  },
  {
   "cell_type": "code",
   "execution_count": null,
   "id": "f430c7b9",
   "metadata": {},
   "outputs": [],
   "source": [
    "val = [\n",
    "  ('Seat',),\n",
    "  ('BMW',),\n",
    "  ('Mercedes',),\n",
    "  ('Opel',),\n",
    "  ('Toyota',),\n",
    "  ('Suzuki',)\n",
    "]\n",
    "mycursor.executemany(\"INSERT INTO cars (brand) VALUES (%s)\", val)\n",
    "\n",
    "mydb.commit()\n",
    "\n",
    "print(mycursor.rowcount, \"record(s) inserted.\")"
   ]
  },
  {
   "cell_type": "code",
   "execution_count": null,
   "id": "53de1cd9",
   "metadata": {},
   "outputs": [],
   "source": [
    "mycursor.execute(\"UPDATE customers SET favorite_car = 1 WHERE name = 'Emilio'\")\n",
    "mycursor.execute(\"UPDATE customers SET favorite_car = 2 WHERE name = 'Antonia' or name = 'Amy'\")\n",
    "mycursor.execute(\"UPDATE customers SET favorite_car = 3 WHERE name = 'Ruben'\")\n",
    "mycursor.execute(\"UPDATE customers SET favorite_car = 4 WHERE name = 'Susan' or name = 'Susan'\")\n",
    "mycursor.execute(\"UPDATE customers SET favorite_car = 5 WHERE name = 'Michael'\")"
   ]
  },
  {
   "cell_type": "markdown",
   "id": "903a52d0",
   "metadata": {},
   "source": [
    "Check that both tables have all needed data"
   ]
  },
  {
   "cell_type": "code",
   "execution_count": null,
   "id": "fc75f363",
   "metadata": {},
   "outputs": [],
   "source": [
    "mycursor.execute(\"SELECT name,favorite_car FROM customers\")\n",
    "mycursor.fetchall()"
   ]
  },
  {
   "cell_type": "code",
   "execution_count": null,
   "id": "62587fec",
   "metadata": {},
   "outputs": [],
   "source": [
    "mycursor.execute(\"SELECT * FROM cars\")\n",
    "mycursor.fetchall()"
   ]
  },
  {
   "cell_type": "markdown",
   "id": "43388d32",
   "metadata": {},
   "source": [
    "Get the favorite car of every customer with a JOIN\n",
    "\n",
    "Try also: LEFT JOIN & RIGHT JOIN"
   ]
  },
  {
   "cell_type": "code",
   "execution_count": null,
   "id": "9e0e4ddc",
   "metadata": {},
   "outputs": [],
   "source": [
    "sql=\"SELECT customers.name, cars.brand FROM customers JOIN cars ON customers.favorite_car = cars.id\"# LEFT, RIGHT\n",
    "mycursor.execute(sql)\n",
    "mycursor.fetchall()"
   ]
  },
  {
   "cell_type": "code",
   "execution_count": null,
   "id": "5d1c532b",
   "metadata": {},
   "outputs": [],
   "source": [
    "mycursor.execute(\"DROP TABLE IF EXISTS customers\")\n",
    "mycursor.execute(\"DROP TABLE IF EXISTS cars\")"
   ]
  }
 ],
 "metadata": {
  "kernelspec": {
   "display_name": "Python 3 (ipykernel)",
   "language": "python",
   "name": "python3"
  },
  "language_info": {
   "codemirror_mode": {
    "name": "ipython",
    "version": 3
   },
   "file_extension": ".py",
   "mimetype": "text/x-python",
   "name": "python",
   "nbconvert_exporter": "python",
   "pygments_lexer": "ipython3",
   "version": "3.7.16"
  }
 },
 "nbformat": 4,
 "nbformat_minor": 5
}

{
 "cells": [
  {
   "cell_type": "markdown",
   "id": "c464f3e4",
   "metadata": {},
   "source": [
    "# Memory and cpu optimizations"
   ]
  },
  {
   "cell_type": "markdown",
   "id": "cd3aa5a4",
   "metadata": {},
   "source": [
    "\n",
    "### generators\n",
    "\n",
    "This two cells basically do the same. Which are the difference between them when executing?"
   ]
  },
  {
   "cell_type": "code",
   "execution_count": 1,
   "id": "2bde2ac9",
   "metadata": {},
   "outputs": [
    {
     "name": "stdout",
     "output_type": "stream",
     "text": [
      "0\n",
      "1\n",
      "4\n",
      "9\n",
      "16\n",
      "25\n",
      "36\n",
      "49\n",
      "64\n",
      "81\n"
     ]
    }
   ],
   "source": [
    "numbers = [i*i for i in range(0, 10)]\n",
    "\n",
    "for n in numbers:\n",
    "    print(n)"
   ]
  },
  {
   "cell_type": "code",
   "execution_count": 9,
   "id": "caef6198",
   "metadata": {},
   "outputs": [
    {
     "name": "stdout",
     "output_type": "stream",
     "text": [
      "<generator object generate_numbers at 0x7f9a18a968e0>\n",
      "<generator object generate_numbers at 0x7f9a18e75560>\n"
     ]
    }
   ],
   "source": [
    "def generate_numbers():\n",
    "    for i in range(0, 10):\n",
    "        yield i*i\n",
    "\n",
    "for n in generate_numbers():\n",
    "    print(n)"
   ]
  },
  {
   "cell_type": "markdown",
   "id": "fd05a1e8",
   "metadata": {},
   "source": [
    "### Comprehension lists vs ordinary fors. \n",
    "\n",
    "When should we use comprehension lists?"
   ]
  },
  {
   "cell_type": "code",
   "execution_count": 12,
   "id": "cd8b5791",
   "metadata": {},
   "outputs": [
    {
     "name": "stdout",
     "output_type": "stream",
     "text": [
      "37.8 µs ± 530 ns per loop (mean ± std. dev. of 7 runs, 10,000 loops each)\n"
     ]
    }
   ],
   "source": [
    "def generate_list():\n",
    "    total = []\n",
    "    for i in range (1, 1000):\n",
    "        if i%3 == 0:\n",
    "            total.append(i)\n",
    "    return total\n",
    "\n",
    "%timeit generate_list()"
   ]
  },
  {
   "cell_type": "code",
   "execution_count": 13,
   "id": "69e378f5",
   "metadata": {},
   "outputs": [
    {
     "name": "stdout",
     "output_type": "stream",
     "text": [
      "38.1 µs ± 228 ns per loop (mean ± std. dev. of 7 runs, 10,000 loops each)\n"
     ]
    }
   ],
   "source": [
    "%timeit total = [i for i in range (1, 1000) if i%3 == 0]\n"
   ]
  },
  {
   "cell_type": "markdown",
   "id": "42421b80",
   "metadata": {},
   "source": [
    "### Concatenate strings with join"
   ]
  },
  {
   "cell_type": "markdown",
   "id": "fbd533de",
   "metadata": {},
   "source": [
    "you can concatenate strings with + operation."
   ]
  },
  {
   "cell_type": "code",
   "execution_count": null,
   "id": "47b048dc",
   "metadata": {},
   "outputs": [],
   "source": [
    "concatenatedString = \"Programming \" + \"is \" + \"fun.\""
   ]
  },
  {
   "cell_type": "markdown",
   "id": "a93c1d57",
   "metadata": {},
   "source": [
    "and it can also be done with join() method."
   ]
  },
  {
   "cell_type": "code",
   "execution_count": null,
   "id": "34d7cdfa",
   "metadata": {},
   "outputs": [],
   "source": [
    "concatenatedString = \" \".join ([\"Programming\", \"is\", \"fun.\"])"
   ]
  },
  {
   "cell_type": "markdown",
   "id": "c77f653c",
   "metadata": {},
   "source": [
    "join() concatenates strings faster than + operation. This is because + operators create a new string and then copies the old content at each step. But join() doesn't work that way."
   ]
  },
  {
   "cell_type": "markdown",
   "id": "0a9b5b57",
   "metadata": {},
   "source": [
    "### Try to avoid dot operation."
   ]
  },
  {
   "cell_type": "code",
   "execution_count": null,
   "id": "09d74cf1",
   "metadata": {},
   "outputs": [],
   "source": [
    "import math\n",
    "val = math.sqrt(10)"
   ]
  },
  {
   "cell_type": "markdown",
   "id": "a0fae9b1",
   "metadata": {},
   "source": [
    "Instead of the above style write code like this:"
   ]
  },
  {
   "cell_type": "code",
   "execution_count": null,
   "id": "46c14d44",
   "metadata": {},
   "outputs": [],
   "source": [
    "from math import sqrt\n",
    "val = sqrt(10)"
   ]
  },
  {
   "cell_type": "markdown",
   "id": "375d7a9b",
   "metadata": {},
   "source": [
    "Because when you call a function using . (dot) it first calls __getattribute()__ or __getattr()__ which then use dictionary operation which costs time. So, try using from module import function."
   ]
  },
  {
   "cell_type": "markdown",
   "id": "609b2f06",
   "metadata": {},
   "source": [
    "## Exceptions\n"
   ]
  },
  {
   "cell_type": "code",
   "execution_count": null,
   "id": "87320649",
   "metadata": {},
   "outputs": [],
   "source": [
    "import sys\n",
    "def linux_interaction():\n",
    "    assert ('linux' in sys.platform), \"Function can only run on Linux systems.\"\n",
    "    print('Doing something.')"
   ]
  },
  {
   "cell_type": "markdown",
   "id": "35cf9b5c",
   "metadata": {},
   "source": [
    "The linux_interaction() can only run on a Linux system. The assert in this function will throw an AssertionError exception if you call it on an operating system other then Linux.\n",
    "\n",
    "You can give the function a try using the following code:"
   ]
  },
  {
   "cell_type": "code",
   "execution_count": null,
   "id": "3a17f6fb",
   "metadata": {},
   "outputs": [],
   "source": [
    "try:\n",
    "    linux_interaction()\n",
    "except:\n",
    "    pass\n"
   ]
  },
  {
   "cell_type": "markdown",
   "id": "20c0cc9e",
   "metadata": {},
   "source": [
    "The way you handled the error here is by handing out a pass. If you were to run this code on a Windows machine, you would get the an empty output.\n",
    "\n",
    "The good thing here is that the program did not crash. But it would be nice to see if some type of exception occurred whenever you ran your code. To this end, you can change the pass into something that would generate an informative message, like so:"
   ]
  },
  {
   "cell_type": "code",
   "execution_count": null,
   "id": "f23e4457",
   "metadata": {},
   "outputs": [],
   "source": [
    "try:\n",
    "    linux_interaction()\n",
    "except:\n",
    "    print('Linux function was not executed')\n"
   ]
  },
  {
   "cell_type": "markdown",
   "id": "fdcd8bb9",
   "metadata": {},
   "source": [
    "Another example with an specific exception"
   ]
  },
  {
   "cell_type": "code",
   "execution_count": null,
   "id": "cbf0672e",
   "metadata": {},
   "outputs": [],
   "source": [
    "try:\n",
    "    with open('file.log') as file:\n",
    "        read_data = file.read()\n",
    "except FileNotFoundError as fnf_error:\n",
    "    print(fnf_error)\n"
   ]
  },
  {
   "cell_type": "markdown",
   "id": "31d453c5",
   "metadata": {},
   "source": [
    "And we can catch more than one exception:"
   ]
  },
  {
   "cell_type": "code",
   "execution_count": null,
   "id": "2dff574f",
   "metadata": {},
   "outputs": [],
   "source": [
    "try:\n",
    "    linux_interaction()\n",
    "    with open('file.log') as file:\n",
    "        read_data = file.read()\n",
    "except FileNotFoundError as fnf_error:\n",
    "    print(fnf_error)\n",
    "except AssertionError as error:\n",
    "    print(error)\n",
    "    print('Linux linux_interaction() function was not executed')\n"
   ]
  },
  {
   "cell_type": "markdown",
   "id": "902a784c",
   "metadata": {},
   "source": [
    "###  Use built-in functions\n"
   ]
  },
  {
   "cell_type": "markdown",
   "id": "50c4e360",
   "metadata": {},
   "source": [
    "Library functions are highly efficient, and you will probably won't be able to code with that efficiency."
   ]
  },
  {
   "cell_type": "markdown",
   "id": "142fadcd",
   "metadata": {},
   "source": [
    "It applies to all packages, not only python built-in functions"
   ]
  }
 ],
 "metadata": {
  "kernelspec": {
   "display_name": "Python 3 (ipykernel)",
   "language": "python",
   "name": "python3"
  },
  "language_info": {
   "codemirror_mode": {
    "name": "ipython",
    "version": 3
   },
   "file_extension": ".py",
   "mimetype": "text/x-python",
   "name": "python",
   "nbconvert_exporter": "python",
   "pygments_lexer": "ipython3",
   "version": "3.11.0"
  }
 },
 "nbformat": 4,
 "nbformat_minor": 5
}

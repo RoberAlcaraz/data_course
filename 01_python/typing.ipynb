{
 "cells": [
  {
   "cell_type": "markdown",
   "id": "e3ccc120",
   "metadata": {},
   "source": [
    "# typing - type hints"
   ]
  },
  {
   "cell_type": "code",
   "execution_count": null,
   "id": "d04c65b6",
   "metadata": {},
   "outputs": [],
   "source": [
    "def greeting(name: str) -> str:\n",
    "    return 'Hello ' + name"
   ]
  },
  {
   "cell_type": "markdown",
   "id": "b23d2256",
   "metadata": {},
   "source": [
    "### Generics"
   ]
  },
  {
   "cell_type": "code",
   "execution_count": null,
   "id": "7e4d8f07",
   "metadata": {},
   "outputs": [],
   "source": [
    "from collections.abc import Sequence\n",
    "from typing import TypeVar\n",
    "\n",
    "T = TypeVar('T')      # Declare type variable\n",
    "\n",
    "def first(l: Sequence[T]) -> T:   # Generic function\n",
    "    return l[0]"
   ]
  },
  {
   "cell_type": "markdown",
   "id": "8872ace5",
   "metadata": {},
   "source": [
    "## Any\n",
    "A special kind of type is Any. A static type checker will treat every type as being compatible with Any and **Any as being compatible with every type**.\n",
    "\n",
    "This means that it is possible to perform any operation or method call on a value of type Any and assign it to any variable:"
   ]
  },
  {
   "cell_type": "markdown",
   "id": "1b671c6c",
   "metadata": {},
   "source": [
    "## Examples\n",
    "\n",
    "```\n",
    "def int_or_str(arg: int | str) -> None:\n",
    "    pass\n",
    "\n",
    "\n",
    "from typing import NoReturn\n",
    "def stop() -> NoReturn:\n",
    "    raise RuntimeError('no way')\n",
    "    \n",
    "\n",
    "from typing import Self\n",
    "class Foo:\n",
    "   def return_self(self) -> Self:\n",
    "      ...\n",
    "      return self\n",
    "      \n",
    "      \n",
    "def foo(arg: Optional[int] = None) -> None:\n",
    "    pass\n",
    "\n",
    "```"
   ]
  },
  {
   "cell_type": "code",
   "execution_count": null,
   "id": "8d42d17c",
   "metadata": {},
   "outputs": [],
   "source": []
  }
 ],
 "metadata": {
  "kernelspec": {
   "display_name": "Python 3 (ipykernel)",
   "language": "python",
   "name": "python3"
  },
  "language_info": {
   "codemirror_mode": {
    "name": "ipython",
    "version": 3
   },
   "file_extension": ".py",
   "mimetype": "text/x-python",
   "name": "python",
   "nbconvert_exporter": "python",
   "pygments_lexer": "ipython3",
   "version": "3.11.0"
  }
 },
 "nbformat": 4,
 "nbformat_minor": 5
}

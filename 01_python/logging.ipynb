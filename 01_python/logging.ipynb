{
 "cells": [
  {
   "cell_type": "markdown",
   "id": "fd60a661",
   "metadata": {},
   "source": [
    "# Logging"
   ]
  },
  {
   "cell_type": "markdown",
   "id": "cf59692c",
   "metadata": {},
   "source": [
    " Functions and classes which implement a flexible event logging system for applications and libraries are defined in the logging module.\n",
    " \n",
    " \n",
    "[Basics](https://docs.python.org/3/howto/logging.html#logging-basic-tutorial)"
   ]
  },
  {
   "cell_type": "code",
   "execution_count": 1,
   "id": "bd3d8aa8",
   "metadata": {},
   "outputs": [
    {
     "name": "stderr",
     "output_type": "stream",
     "text": [
      "WARNING:root:Watch out!\n"
     ]
    }
   ],
   "source": [
    "import logging\n",
    "logging.warning('Watch out!')\n",
    "logging.info('Ok')"
   ]
  },
  {
   "cell_type": "markdown",
   "id": "0a884835",
   "metadata": {},
   "source": [
    "The INFO message doesn’t appear because the default level is WARNING. The printed message includes the indication of the level and the description of the event provided in the logging call"
   ]
  },
  {
   "cell_type": "markdown",
   "id": "46fa19f8",
   "metadata": {},
   "source": [
    "## Logging to a file"
   ]
  },
  {
   "cell_type": "code",
   "execution_count": 2,
   "id": "6ce208d4",
   "metadata": {},
   "outputs": [],
   "source": [
    "import logging\n",
    "logging.basicConfig(filename='example.log', encoding='utf-8', level=logging.DEBUG)"
   ]
  },
  {
   "cell_type": "code",
   "execution_count": 3,
   "id": "1eb4d920",
   "metadata": {},
   "outputs": [
    {
     "name": "stderr",
     "output_type": "stream",
     "text": [
      "WARNING:root:And this, too\n",
      "ERROR:root:And non-ASCII stuff, too, like Øresund and Malmö\n"
     ]
    }
   ],
   "source": [
    "logging.debug('This message should go to the log file')\n",
    "logging.info('So should this')\n",
    "logging.warning('And this, too')\n",
    "logging.error('And non-ASCII stuff, too, like Øresund and Malmö')"
   ]
  },
  {
   "cell_type": "markdown",
   "id": "c0bebc1e",
   "metadata": {},
   "source": [
    "## Changing the format of displayed messages"
   ]
  },
  {
   "cell_type": "code",
   "execution_count": 4,
   "id": "554bb2c4",
   "metadata": {},
   "outputs": [],
   "source": [
    "logging.basicConfig(format='%(asctime)s %(levelname) %(message)s', datefmt='%m/%d/%Y %I:%M:%S %p')"
   ]
  },
  {
   "cell_type": "markdown",
   "id": "5213d478",
   "metadata": {},
   "source": [
    "## Example"
   ]
  },
  {
   "cell_type": "code",
   "execution_count": 5,
   "id": "1e8e8a4a",
   "metadata": {},
   "outputs": [
    {
     "name": "stderr",
     "output_type": "stream",
     "text": [
      "2023-03-28 12:45:41,164 - simple_example - DEBUG - debug message\n",
      "DEBUG:simple_example:debug message\n",
      "2023-03-28 12:45:41,166 - simple_example - INFO - info message\n",
      "INFO:simple_example:info message\n",
      "2023-03-28 12:45:41,168 - simple_example - WARNING - warn message\n",
      "WARNING:simple_example:warn message\n",
      "2023-03-28 12:45:41,169 - simple_example - ERROR - error message\n",
      "ERROR:simple_example:error message\n",
      "2023-03-28 12:45:41,171 - simple_example - CRITICAL - critical message\n",
      "CRITICAL:simple_example:critical message\n"
     ]
    }
   ],
   "source": [
    "import logging\n",
    "\n",
    "def logger_init():\n",
    "    # create logger\n",
    "    logger = logging.getLogger('simple_example')\n",
    "    logger.setLevel(logging.DEBUG)\n",
    "\n",
    "    # create console handler and set level to debug\n",
    "    ch = logging.StreamHandler()\n",
    "    ch.setLevel(logging.DEBUG)\n",
    "\n",
    "    # create formatter\n",
    "    formatter = logging.Formatter('%(asctime)s - %(name)s - %(levelname)s - %(message)s')\n",
    "    # add formatter to ch\n",
    "    ch.setFormatter(formatter)\n",
    "\n",
    "    # add ch to logger\n",
    "    logger.addHandler(ch)\n",
    "    return logger\n",
    "\n",
    "\n",
    "logger = logger_init()\n",
    "# 'application' code\n",
    "logger.debug('debug message')\n",
    "logger.info('info message') d\n",
    "logger.warning('warn message')\n",
    "logger.error('error message')\n",
    "logger.critical('critical message')\n"
   ]
  },
  {
   "cell_type": "markdown",
   "id": "913b709f",
   "metadata": {},
   "source": [
    "## With rotating files"
   ]
  },
  {
   "cell_type": "code",
   "execution_count": null,
   "id": "7161ef83",
   "metadata": {},
   "outputs": [],
   "source": [
    "def init_logger(name, fname, level):\n",
    "    # create logger with 'spam_application'\n",
    "    logger = logging.getLogger(name)\n",
    "    logger.setLevel(level)\n",
    "    fh = logging.handlers.RotatingFileHandler(fname, maxBytes=10*1024*1024, backupCount=5)\n",
    "    # create formatter and add it to the handlers\n",
    "    formatter = logging.Formatter('%(asctime)s - %(name)s - %(levelname)s - %(message)s')\n",
    "    fh.setFormatter(formatter)\n",
    "    # add the handlers to the logger\n",
    "    logger.addHandler(fh)\n",
    "    return logger\n",
    "\n",
    "init_logger('programa', './logs/programa.log', logging.INFO)"
   ]
  },
  {
   "cell_type": "markdown",
   "id": "e10c2506",
   "metadata": {},
   "source": [
    "[Documentation](https://docs.python.org/3/library/logging.html)"
   ]
  },
  {
   "cell_type": "code",
   "execution_count": null,
   "id": "310edd40",
   "metadata": {},
   "outputs": [],
   "source": []
  }
 ],
 "metadata": {
  "kernelspec": {
   "display_name": "Python 3 (ipykernel)",
   "language": "python",
   "name": "python3"
  },
  "language_info": {
   "codemirror_mode": {
    "name": "ipython",
    "version": 3
   },
   "file_extension": ".py",
   "mimetype": "text/x-python",
   "name": "python",
   "nbconvert_exporter": "python",
   "pygments_lexer": "ipython3",
   "version": "3.11.0"
  }
 },
 "nbformat": 4,
 "nbformat_minor": 5
}

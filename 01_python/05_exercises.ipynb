{
 "cells": [
  {
   "cell_type": "markdown",
   "id": "be9d20e3",
   "metadata": {},
   "source": [
    "## Exercise 1"
   ]
  },
  {
   "cell_type": "markdown",
   "id": "1fa7ea91",
   "metadata": {},
   "source": [
    "This is our shopping list\n",
    " * 4 pears\n",
    " * 1 pineapple\n",
    " * 10 oranges\n",
    " * 2 kiwis\n",
    "\n",
    "and given this list of prices\n",
    " * apple 6.8€/each\n",
    " * orange 2.3€/each\n",
    " * pear 5.3€/each\n",
    " * pineapple 15€/each\n",
    " \n",
    "Could you compute the price of the shopping card?"
   ]
  },
  {
   "cell_type": "code",
   "execution_count": null,
   "id": "96031552",
   "metadata": {},
   "outputs": [],
   "source": []
  },
  {
   "cell_type": "markdown",
   "id": "eb17662d",
   "metadata": {},
   "source": [
    "## Exercise 2\n",
    "\n",
    "Write (and test) a function that given a path to a text file, generates another file with the content of the first file in capital letters. The resulting filename must be upper_FIRSTFILENAME\n",
    "\n",
    "Example:\n",
    "\n",
    "```\n",
    " Initial file ('/home/antonia/test.txt')\n",
    " Containing:\n",
    "   hi there, this is a test\n",
    "   isn't it?\n",
    " Run generate_second_file('/home/antonia/test.txt')\n",
    " Result: New file '/home/antonia/upper_test.txt'\n",
    " Containing:\n",
    "   HI THERE, THIS IS A TEST\n",
    "   ISN'T IT?\n",
    "```"
   ]
  },
  {
   "cell_type": "code",
   "execution_count": 3,
   "id": "45496aea",
   "metadata": {},
   "outputs": [],
   "source": [
    "def generate_second_file(initial_path: str) -> str:\n",
    "    pass"
   ]
  },
  {
   "cell_type": "code",
   "execution_count": null,
   "id": "85be53c3",
   "metadata": {},
   "outputs": [],
   "source": []
  },
  {
   "cell_type": "markdown",
   "id": "ac663562",
   "metadata": {},
   "source": [
    "## Exercise 3\n",
    "\n",
    "Parse the following JSON to get all the values of a key ‘name’ within an array\n",
    "\n",
    "```\n",
    "[ \n",
    "   { \n",
    "      \"id\":1,\n",
    "      \"name\":\"pepper\",\n",
    "      \"color\":[ \n",
    "         \"red\",\n",
    "         \"green\",\n",
    "         \"yellow\n",
    "      ]\n",
    "   },\n",
    "   { \n",
    "      \"id\":2,\n",
    "      \"name\":\"summer\",\n",
    "      \"color\":[ \n",
    "         \"red\",\n",
    "         \"yellow\",\n",
    "         \"orange\"\n",
    "      ]\n",
    "   }\n",
    "]\n",
    "````\n",
    "\n",
    "Solve it both using\n",
    " * a variable with the json\n",
    " * loading a file containing the json"
   ]
  },
  {
   "cell_type": "code",
   "execution_count": null,
   "id": "a1291bc7",
   "metadata": {},
   "outputs": [],
   "source": []
  },
  {
   "cell_type": "markdown",
   "id": "cd37f45a",
   "metadata": {},
   "source": [
    "## Exercise 4\n",
    "\n",
    "From [JHU CSSE COVID-19 Dataset](https://github.com/CSSEGISandData/COVID-19/tree/master/csse_covid_19_data) download all csv files from the time series summary and save them in data folder"
   ]
  },
  {
   "cell_type": "code",
   "execution_count": null,
   "id": "15493c97",
   "metadata": {},
   "outputs": [],
   "source": []
  },
  {
   "cell_type": "markdown",
   "id": "cd679a94",
   "metadata": {},
   "source": [
    "## Exercise 5\n",
    "\n",
    "Explore file data/time_series_covid19_confirmed_global.csv and compute the number of positive cases in Canada the first of January 2021.\n",
    "\n",
    "1. Do not use pandas\n",
    "2. Do not use a web ide"
   ]
  },
  {
   "cell_type": "code",
   "execution_count": null,
   "id": "2008d34f",
   "metadata": {},
   "outputs": [],
   "source": []
  }
 ],
 "metadata": {
  "kernelspec": {
   "display_name": "Python 3 (ipykernel)",
   "language": "python",
   "name": "python3"
  },
  "language_info": {
   "codemirror_mode": {
    "name": "ipython",
    "version": 3
   },
   "file_extension": ".py",
   "mimetype": "text/x-python",
   "name": "python",
   "nbconvert_exporter": "python",
   "pygments_lexer": "ipython3",
   "version": "3.11.0"
  }
 },
 "nbformat": 4,
 "nbformat_minor": 5
}

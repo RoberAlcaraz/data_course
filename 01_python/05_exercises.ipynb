{
 "cells": [
  {
   "cell_type": "code",
   "execution_count": 1,
   "id": "451c51e0",
   "metadata": {},
   "outputs": [],
   "source": [
    "import os\n",
    "import json\n"
   ]
  },
  {
   "cell_type": "markdown",
   "id": "be9d20e3",
   "metadata": {},
   "source": [
    "## Exercise 1"
   ]
  },
  {
   "cell_type": "markdown",
   "id": "1fa7ea91",
   "metadata": {},
   "source": [
    "This is our shopping list\n",
    " * 4 pears\n",
    " * 1 pineapple\n",
    " * 10 oranges\n",
    " * 2 kiwis\n",
    "\n",
    "and given this list of prices\n",
    " * apple 6.8€/each\n",
    " * orange 2.3€/each\n",
    " * pear 5.3€/each\n",
    " * pineapple 15€/each\n",
    " \n",
    "Could you compute the price of the shopping card?"
   ]
  },
  {
   "cell_type": "code",
   "execution_count": 2,
   "id": "825bdb53",
   "metadata": {},
   "outputs": [
    {
     "data": {
      "text/plain": [
       "[4, 1, 10, 2]"
      ]
     },
     "execution_count": 2,
     "metadata": {},
     "output_type": "execute_result"
    }
   ],
   "source": [
    "shopping_lst = [4, 1, 10, 2]\n",
    "shopping_lst"
   ]
  },
  {
   "cell_type": "code",
   "execution_count": 3,
   "id": "96031552",
   "metadata": {},
   "outputs": [
    {
     "data": {
      "text/plain": [
       "112.5"
      ]
     },
     "execution_count": 3,
     "metadata": {},
     "output_type": "execute_result"
    }
   ],
   "source": [
    "shopping_lst = [4, 1, 10, 2]\n",
    "shopping_prices = [6.8, 2.3, 5.3, 15]\n",
    "\n",
    "shopping_sum = 0\n",
    "for item, price in zip(shopping_lst, shopping_prices):\n",
    "    shopping_sum += item * price\n",
    "\n",
    "shopping_sum\n"
   ]
  },
  {
   "cell_type": "markdown",
   "id": "eb17662d",
   "metadata": {},
   "source": [
    "## Exercise 2\n",
    "\n",
    "Write (and test) a function that given a path to a text file, generates another file with the content of the first file in capital letters. The resulting filename must be upper_FIRSTFILENAME\n",
    "\n",
    "Example:\n",
    "\n",
    "```\n",
    " Initial file ('/home/antonia/test.txt')\n",
    " Containing:\n",
    "   hi there, this is a test\n",
    "   isn't it?\n",
    " Run generate_second_file('/home/antonia/test.txt')\n",
    " Result: New file '/home/antonia/upper_test.txt'\n",
    " Containing:\n",
    "   HI THERE, THIS IS A TEST\n",
    "   ISN'T IT?\n",
    "```"
   ]
  },
  {
   "cell_type": "code",
   "execution_count": 4,
   "id": "492e614a",
   "metadata": {},
   "outputs": [],
   "source": [
    "\n",
    "base_path = os.path.join(os.getcwd(), \"data\")\n",
    "input_path = os.path.join(base_path, 'test.txt')\n",
    "output_path = os.path.join(base_path, 'uppter_test.txt')\n",
    "\n",
    "with open(input_path, 'r') as f:\n",
    "    text = f.read()\n",
    "\n",
    "modified_text = text.upper()\n",
    "\n",
    "with open(output_path, \"w\") as file:\n",
    "    file.write(modified_text)"
   ]
  },
  {
   "cell_type": "code",
   "execution_count": 5,
   "id": "45496aea",
   "metadata": {},
   "outputs": [],
   "source": [
    "\n",
    "def generate_second_file(initial_path: str) -> str:\n",
    "    with open(initial_path, 'r') as f:\n",
    "        text = f.read()\n",
    "\n",
    "    modified_text = text.upper()\n",
    "    output_path = initial_path.replace('test', 'upper_test')\n",
    "\n",
    "    with open(output_path, \"w\") as file:\n",
    "        file.write(modified_text)\n",
    "\n",
    "base_path = os.path.join(os.getcwd(), \"data\")\n",
    "input_path = os.path.join(base_path, 'test.txt')\n",
    "generate_second_file(input_path)"
   ]
  },
  {
   "cell_type": "markdown",
   "id": "ac663562",
   "metadata": {},
   "source": [
    "## Exercise 3\n",
    "\n",
    "Parse the following JSON to get all the values of a key ‘name’ within an array\n",
    "\n",
    "```\n",
    "[ \n",
    "   { \n",
    "      \"id\":1,\n",
    "      \"name\":\"pepper\",\n",
    "      \"color\":[ \n",
    "         \"red\",\n",
    "         \"green\",\n",
    "         \"yellow\n",
    "      ]\n",
    "   },\n",
    "   { \n",
    "      \"id\":2,\n",
    "      \"name\":\"summer\",\n",
    "      \"color\":[ \n",
    "         \"red\",\n",
    "         \"yellow\",\n",
    "         \"orange\"\n",
    "      ]\n",
    "   }\n",
    "]\n",
    "````\n",
    "\n",
    "Solve it both using\n",
    " * a variable with the json\n",
    " * loading a file containing the json"
   ]
  },
  {
   "cell_type": "code",
   "execution_count": 6,
   "id": "a1291bc7",
   "metadata": {},
   "outputs": [
    {
     "data": {
      "text/plain": [
       "['pepper', 'summer']"
      ]
     },
     "execution_count": 6,
     "metadata": {},
     "output_type": "execute_result"
    }
   ],
   "source": [
    "json_var = [ \n",
    "   { \n",
    "      \"id\":1,\n",
    "      \"name\":\"pepper\",\n",
    "      \"color\":[ \n",
    "         \"red\",\n",
    "         \"green\",\n",
    "         \"yellow\"\n",
    "      ]\n",
    "   },\n",
    "   { \n",
    "      \"id\":2,\n",
    "      \"name\":\"summer\",\n",
    "      \"color\":[ \n",
    "         \"red\",\n",
    "         \"yellow\",\n",
    "         \"orange\"\n",
    "      ]\n",
    "   }\n",
    "]\n",
    "\n",
    "[d['name'] for d in json_var]\n",
    "\n",
    "# Save dict as json:\n",
    "with open(\"data/json_file.json\", \"w\") as outfile:\n",
    "    json.dump(json_var, outfile)\n",
    "\n",
    "# Now, read it\n",
    "\n",
    "with open(\"data/json_file.json\", \"r\") as infile:\n",
    "    data = json.load(infile)\n",
    "\n",
    "[d['name'] for d in data]"
   ]
  },
  {
   "cell_type": "markdown",
   "id": "cd37f45a",
   "metadata": {},
   "source": [
    "## Exercise 4\n",
    "\n",
    "From [JHU CSSE COVID-19 Dataset](https://github.com/CSSEGISandData/COVID-19/tree/master/csse_covid_19_data) download all csv files from the time series summary and save them in data folder"
   ]
  },
  {
   "cell_type": "code",
   "execution_count": 7,
   "id": "15493c97",
   "metadata": {},
   "outputs": [],
   "source": [
    "import pandas as pd\n",
    "import requests\n",
    "from io import BytesIO\n",
    "import os\n",
    "\n",
    "url_base = \"https://raw.githubusercontent.com/CSSEGISandData/COVID-19/master/csse_covid_19_data/csse_covid_19_time_series/\"\n",
    "\n",
    "file_types = [\"confirmed\", \"deaths\", \"recovered\"]\n",
    "\n",
    "for file_type in file_types:\n",
    "    url = url_base + f\"time_series_covid19_{file_type}_global.csv\"\n",
    "    response = requests.get(url)\n",
    "    content = response.content\n",
    "    csv_file = pd.read_csv(BytesIO(content))\n",
    "    if not os.path.exists(os.path.join(os.getcwd(), \"data\")):\n",
    "        os.makedirs(os.path.join(os.getcwd(), \"data\"))\n",
    "    csv_file.to_csv(os.path.join(os.getcwd(), \"data\", f\"time_series_covid19_{file_type}_global.csv\"), index=False)\n"
   ]
  },
  {
   "cell_type": "markdown",
   "id": "cd679a94",
   "metadata": {},
   "source": [
    "## Exercise 5\n",
    "\n",
    "Explore file data/time_series_covid19_confirmed_global.csv and compute the number of positive cases in Canada the first of January 2021.\n",
    "\n",
    "1. Do not use pandas\n",
    "2. Do not use a web ide"
   ]
  },
  {
   "cell_type": "code",
   "execution_count": 9,
   "id": "2008d34f",
   "metadata": {},
   "outputs": [
    {
     "name": "stdout",
     "output_type": "stream",
     "text": [
      "186330\n",
      "14084\n"
     ]
    }
   ],
   "source": [
    "\n",
    "import csv\n",
    "\n",
    "# Read the CSV file\n",
    "with open('data/time_series_covid19_confirmed_global.csv', 'r') as file:\n",
    "    reader = csv.reader(file)\n",
    "    header = next(reader)  # Skip the header row\n",
    "\n",
    "    # Find the index of the second column\n",
    "    col_index = 1\n",
    "\n",
    "    # Find the indices of the columns corresponding to January 2021\n",
    "    jan_indices = []\n",
    "    for i, col in enumerate(header):\n",
    "        if col.startswith('1/1/21') or col.endswith('1/31/21'):\n",
    "            jan_indices.append(i)\n",
    "    \n",
    "\n",
    "    # Find the rows with Canada in the second column and sum the corresponding numbers\n",
    "    total = 0\n",
    "    for row in reader:\n",
    "        if row[col_index] == 'Canada':\n",
    "            total += int(row[jan_indices[1]]) - int(row[jan_indices[0]])\n",
    "\n",
    "print(total)\n",
    "print(int(row[jan_indices[0]]))\n"
   ]
  }
 ],
 "metadata": {
  "kernelspec": {
   "display_name": "Python 3 (ipykernel)",
   "language": "python",
   "name": "python3"
  },
  "language_info": {
   "codemirror_mode": {
    "name": "ipython",
    "version": 3
   },
   "file_extension": ".py",
   "mimetype": "text/x-python",
   "name": "python",
   "nbconvert_exporter": "python",
   "pygments_lexer": "ipython3",
   "version": "3.10.10"
  }
 },
 "nbformat": 4,
 "nbformat_minor": 5
}

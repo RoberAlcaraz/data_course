{
 "cells": [
  {
   "cell_type": "markdown",
   "id": "7c52f614",
   "metadata": {},
   "source": [
    "# Errors"
   ]
  },
  {
   "cell_type": "markdown",
   "id": "c4f64881",
   "metadata": {},
   "source": [
    "Find and solve the errors in this programs"
   ]
  },
  {
   "cell_type": "code",
   "execution_count": null,
   "id": "2533c2ad",
   "metadata": {},
   "outputs": [],
   "source": [
    "a = \"asdf'\n",
    "if \"s\" in 'a':\n",
    "    print ok\n",
    "else\n",
    "    print error"
   ]
  },
  {
   "cell_type": "code",
   "execution_count": null,
   "id": "536828c0",
   "metadata": {},
   "outputs": [],
   "source": [
    "\n",
    "a = 100\n",
    "if a == 100:\n",
    "    do_something();\n",
    "elif a < 50:\n",
    "    do_something_else();\n",
    "else:\n",
    "    do();"
   ]
  },
  {
   "cell_type": "code",
   "execution_count": null,
   "id": "0bc6ebfb",
   "metadata": {},
   "outputs": [],
   "source": [
    "open = open('data/file.csv')\n",
    "for line in open:\n",
    "    print(line)\n",
    "close(open)"
   ]
  },
  {
   "cell_type": "code",
   "execution_count": null,
   "id": "47f6135c",
   "metadata": {},
   "outputs": [],
   "source": [
    "f = open('data/file.csv')\n",
    "f.read()\n",
    "f.close()"
   ]
  },
  {
   "cell_type": "code",
   "execution_count": null,
   "id": "b2400c14",
   "metadata": {},
   "outputs": [],
   "source": [
    "for i in range(0, 10):\n",
    "    print(i)\n",
    "# without executing it. Which is the last number that's going to be printed?"
   ]
  }
 ],
 "metadata": {
  "kernelspec": {
   "display_name": "Python 3 (ipykernel)",
   "language": "python",
   "name": "python3"
  },
  "language_info": {
   "codemirror_mode": {
    "name": "ipython",
    "version": 3
   },
   "file_extension": ".py",
   "mimetype": "text/x-python",
   "name": "python",
   "nbconvert_exporter": "python",
   "pygments_lexer": "ipython3",
   "version": "3.11.0"
  }
 },
 "nbformat": 4,
 "nbformat_minor": 5
}

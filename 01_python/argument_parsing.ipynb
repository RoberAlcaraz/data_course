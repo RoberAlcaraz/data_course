{
 "cells": [
  {
   "cell_type": "markdown",
   "id": "49e9d0af",
   "metadata": {},
   "source": [
    "# argument parsing"
   ]
  },
  {
   "cell_type": "markdown",
   "id": "a1143689",
   "metadata": {},
   "source": [
    "The argparse module makes it easy to write user-friendly command-line interfaces.\n",
    "\n",
    "```\n",
    "parser = argparse.ArgumentParser(\n",
    "                    prog='ProgramName',\n",
    "                    description='What the program does',\n",
    "                    epilog='Text at the bottom of help')\n",
    "```\n"
   ]
  },
  {
   "cell_type": "markdown",
   "id": "5b76a43b",
   "metadata": {},
   "source": [
    "The ArgumentParser.add_argument() method attaches individual argument specifications to the parser. It supports positional arguments, options that accept values, and on/off flags:\n",
    "\n",
    "```\n",
    "parser.add_argument('filename')           # positional argument\n",
    "parser.add_argument('-c', '--count')      # option that takes a value\n",
    "parser.add_argument('-v', '--verbose',\n",
    "                    action='store_true')  # on/off flag\n",
    "```\n",
    "\n",
    "The ArgumentParser.parse_args() method runs the parser and places the extracted data in a argparse.Namespace object:\n",
    "\n",
    "```\n",
    "args = parser.parse_args()\n",
    "print(args.filename, args.count, args.verbose)\n",
    "````"
   ]
  },
  {
   "cell_type": "markdown",
   "id": "51daf49b",
   "metadata": {},
   "source": [
    "More information [argparse](https://docs.python.org/3/library/argparse.html?highlight=argparse#module-argparse)"
   ]
  },
  {
   "cell_type": "markdown",
   "id": "4c08bd4b",
   "metadata": {},
   "source": [
    "\n",
    "### Example\n",
    "\n",
    "The following code is a Python program that takes a list of integers and produces either the sum or the max:"
   ]
  },
  {
   "cell_type": "markdown",
   "id": "51773baf",
   "metadata": {},
   "source": [
    "``` \n",
    "import argparse\n",
    "\n",
    "parser = argparse.ArgumentParser(description='Process some integers.')\n",
    "parser.add_argument('integers', metavar='N', type=int, nargs='+',\n",
    "                    help='an integer for the accumulator')\n",
    "parser.add_argument('--sum', dest='accumulate', action='store_const',\n",
    "                    const=sum, default=max,\n",
    "                    help='sum the integers (default: find the max)')\n",
    "\n",
    "args = parser.parse_args()\n",
    "print(args.accumulate(args.integers))\n",
    "```"
   ]
  },
  {
   "cell_type": "markdown",
   "id": "e5521316",
   "metadata": {},
   "source": [
    "```\n",
    "$ python prog.py -h\n",
    "usage: prog.py [-h] [--sum] N [N ...]\n",
    "\n",
    "Process some integers.\n",
    "\n",
    "positional arguments:\n",
    " N           an integer for the accumulator\n",
    "\n",
    "options:\n",
    " -h, --help  show this help message and exit\n",
    " --sum       sum the integers (default: find the max)\n",
    "\n",
    "    \n",
    "$ python prog.py 1 2 3 4\n",
    "4\n",
    "\n",
    "$ python prog.py 1 2 3 4 --sum\n",
    "10\n",
    "\n",
    "$ python prog.py a b c\n",
    "usage: prog.py [-h] [--sum] N [N ...]\n",
    "prog.py: error: argument N: invalid int value: 'a'\n",
    "```"
   ]
  },
  {
   "cell_type": "markdown",
   "id": "19146684",
   "metadata": {},
   "source": [
    "### Exercise:\n",
    "\n",
    "Make an script that reads two numbers and a word and prints them all. The type and order is important"
   ]
  },
  {
   "cell_type": "code",
   "execution_count": null,
   "id": "c2341adc",
   "metadata": {},
   "outputs": [],
   "source": []
  },
  {
   "cell_type": "code",
   "execution_count": null,
   "id": "b4ad4678",
   "metadata": {},
   "outputs": [],
   "source": []
  }
 ],
 "metadata": {
  "kernelspec": {
   "display_name": "Python 3 (ipykernel)",
   "language": "python",
   "name": "python3"
  },
  "language_info": {
   "codemirror_mode": {
    "name": "ipython",
    "version": 3
   },
   "file_extension": ".py",
   "mimetype": "text/x-python",
   "name": "python",
   "nbconvert_exporter": "python",
   "pygments_lexer": "ipython3",
   "version": "3.11.0"
  }
 },
 "nbformat": 4,
 "nbformat_minor": 5
}

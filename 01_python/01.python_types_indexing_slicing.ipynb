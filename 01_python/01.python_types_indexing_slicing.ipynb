{
 "cells": [
  {
   "cell_type": "markdown",
   "id": "cdd88489",
   "metadata": {},
   "source": [
    "# The zen of Python"
   ]
  },
  {
   "cell_type": "code",
   "execution_count": null,
   "id": "9a24bef9",
   "metadata": {},
   "outputs": [],
   "source": [
    "import this"
   ]
  },
  {
   "cell_type": "markdown",
   "id": "13bdd93a",
   "metadata": {},
   "source": [
    "## Why python?"
   ]
  },
  {
   "cell_type": "markdown",
   "id": "eb478d24",
   "metadata": {},
   "source": [
    "* Python is easy to learn and use\n",
    "* Python Community\n",
    "  * Come for the language, stay for the community. Naomi Ceder\n",
    "  * support from developers of all levels\n",
    "  * corporate support\n",
    "* Batteries Included\n",
    "* Rich ecosystem of libraries and frameworks\n",
    "* Versatility, efficiency, reliability, and speed\n",
    "  * mobile applications, desktop applications, web development, hardware programming\n",
    "  * multiplatform\n",
    "* Data science\n",
    "* Flexibility of the language (from glue to main language). Can support mutilple programming paradigms (as Object Oriented Programming or Functional Programming)\n",
    "* Testing\n",
    "* Automation\n",
    "* Good for academics and PoC\n",
    "* Good for mature projects\n",
    "* Open source\n"
   ]
  },
  {
   "cell_type": "markdown",
   "id": "8b10cd56",
   "metadata": {},
   "source": [
    "# Editors and IDEs"
   ]
  },
  {
   "cell_type": "markdown",
   "id": "f6a45cfb",
   "metadata": {},
   "source": [
    "Jupyter notebook, JupyterLab\n",
    "vs\n",
    "VSCode, Sublime, PyCharm, Spyder, ..."
   ]
  },
  {
   "cell_type": "markdown",
   "id": "b4195efd",
   "metadata": {},
   "source": [
    "It depends on what you need:\n",
    " - testing -> jupyter notebook\n",
    " - writing code -> vscode, sublime, ...\n",
    " - debugging -> jupyterlab, vscode, ..."
   ]
  },
  {
   "cell_type": "markdown",
   "id": "cc419efd",
   "metadata": {},
   "source": [
    "# Python 2 or Python 3 ?"
   ]
  },
  {
   "cell_type": "markdown",
   "id": "b7e12500",
   "metadata": {},
   "source": [
    "![alternative text](../images/python2.png)"
   ]
  },
  {
   "cell_type": "markdown",
   "id": "b8dcea99",
   "metadata": {},
   "source": [
    "# Types"
   ]
  },
  {
   "cell_type": "markdown",
   "id": "7a2c3e8a",
   "metadata": {},
   "source": [
    "## Truth Value Testing and boolean operators"
   ]
  },
  {
   "cell_type": "code",
   "execution_count": null,
   "id": "ed914dc8",
   "metadata": {},
   "outputs": [],
   "source": [
    "True"
   ]
  },
  {
   "cell_type": "code",
   "execution_count": null,
   "id": "1879cb73",
   "metadata": {},
   "outputs": [],
   "source": [
    "False"
   ]
  },
  {
   "cell_type": "code",
   "execution_count": null,
   "id": "2d076547",
   "metadata": {},
   "outputs": [],
   "source": [
    "'a' is True"
   ]
  },
  {
   "cell_type": "code",
   "execution_count": null,
   "id": "78c43921",
   "metadata": {},
   "outputs": [],
   "source": [
    "'a' == True"
   ]
  },
  {
   "cell_type": "code",
   "execution_count": null,
   "id": "04a5bdb7",
   "metadata": {},
   "outputs": [],
   "source": [
    "'a' != 2"
   ]
  },
  {
   "cell_type": "code",
   "execution_count": null,
   "id": "01e41a25",
   "metadata": {},
   "outputs": [],
   "source": [
    "'a' is not 'b'"
   ]
  },
  {
   "cell_type": "markdown",
   "id": "9e213728",
   "metadata": {},
   "source": [
    "## Numeric Types — int, float, complex"
   ]
  },
  {
   "cell_type": "markdown",
   "id": "24babb6e",
   "metadata": {},
   "source": [
    "Integers, floats and complex numbers (built-in types)"
   ]
  },
  {
   "cell_type": "markdown",
   "id": "2c99fadf",
   "metadata": {},
   "source": [
    "There are three distinct numeric types: integers, floating point numbers, and complex numbers. In addition, Booleans are a subtype of integers. **Integers have unlimited precision.** **Floating point numbers are usually implemented using double in C**; information about the precision and internal representation of floating point numbers for the machine on which your program is running is available in sys.float_info. Complex numbers have a real and imaginary part, which are each a floating point number. To extract these parts from a complex number z, use z.real and z.imag. (The standard library includes the additional numeric types fractions.Fraction, for rationals, and decimal.Decimal, for floating-point numbers with user-definable precision.)"
   ]
  },
  {
   "cell_type": "markdown",
   "id": "ffd66a67",
   "metadata": {},
   "source": [
    "\n",
    "Numbers are created by numeric literals or as the result of built-in functions and operators. Unadorned integer literals (including hex, octal and binary numbers) yield integers. Numeric literals containing a decimal point or an exponent sign yield floating point numbers. Appending 'j' or 'J' to a numeric literal yields an imaginary number (a complex number with a zero real part) which you can add to an integer or float to get a complex number with real and imaginary parts.\n"
   ]
  },
  {
   "cell_type": "markdown",
   "id": "22c05a24",
   "metadata": {},
   "source": [
    "\n",
    "**Python fully supports mixed arithmetic**: when a binary arithmetic operator has operands of different numeric types, the operand with the “narrower” type is widened to that of the other, where integer is narrower than floating point, which is narrower than complex. A comparison between numbers of different types behaves as though the exact values of those numbers were being compared\n"
   ]
  },
  {
   "cell_type": "code",
   "execution_count": null,
   "id": "43367089",
   "metadata": {},
   "outputs": [],
   "source": [
    "import sys\n",
    "sys.maxsize"
   ]
  },
  {
   "cell_type": "code",
   "execution_count": null,
   "id": "64f749e0",
   "metadata": {},
   "outputs": [],
   "source": [
    "type(sys.maxsize)"
   ]
  },
  {
   "cell_type": "code",
   "execution_count": null,
   "id": "2981ad1a",
   "metadata": {},
   "outputs": [],
   "source": [
    "sys.float_info"
   ]
  },
  {
   "cell_type": "code",
   "execution_count": null,
   "id": "e2b7fb87",
   "metadata": {},
   "outputs": [],
   "source": [
    "import numpy as np\n",
    "np.finfo(np.float64).max"
   ]
  },
  {
   "cell_type": "markdown",
   "id": "2ba2738d",
   "metadata": {},
   "source": [
    "How can we calculate 2^10?"
   ]
  },
  {
   "cell_type": "code",
   "execution_count": null,
   "id": "370d8ca1",
   "metadata": {},
   "outputs": [],
   "source": [
    "2**10"
   ]
  },
  {
   "cell_type": "markdown",
   "id": "a24a622c",
   "metadata": {},
   "source": [
    "Some mathematical functions are already integrated"
   ]
  },
  {
   "cell_type": "code",
   "execution_count": null,
   "id": "118afeee",
   "metadata": {},
   "outputs": [],
   "source": [
    "import math"
   ]
  },
  {
   "cell_type": "code",
   "execution_count": null,
   "id": "8ca54e2c",
   "metadata": {},
   "outputs": [],
   "source": [
    "math.sin(2*math.pi)"
   ]
  },
  {
   "cell_type": "code",
   "execution_count": null,
   "id": "4a575da0",
   "metadata": {},
   "outputs": [],
   "source": [
    "math.factorial(10)"
   ]
  },
  {
   "cell_type": "code",
   "execution_count": null,
   "id": "1f26f256",
   "metadata": {},
   "outputs": [],
   "source": [
    "math.sqrt(-1)"
   ]
  },
  {
   "cell_type": "code",
   "execution_count": null,
   "id": "1a99812d",
   "metadata": {},
   "outputs": [],
   "source": [
    "import cmath\n",
    "cmath.sqrt(-1)\n"
   ]
  },
  {
   "cell_type": "markdown",
   "id": "03a40dd6",
   "metadata": {},
   "source": [
    "## Iterator types and generators"
   ]
  },
  {
   "cell_type": "markdown",
   "id": "d9d32432",
   "metadata": {},
   "source": [
    "Python supports a concept of iteration over containers."
   ]
  },
  {
   "cell_type": "markdown",
   "id": "41cbdfa8",
   "metadata": {},
   "source": [
    "## Sequence Types — list, tuple, range"
   ]
  },
  {
   "cell_type": "markdown",
   "id": "7eff7577",
   "metadata": {},
   "source": [
    "Some operations\n",
    " * in\n",
    " * not in\n",
    " * concatenation (+)\n",
    " * \"multiplication\" (*)\n",
    " * i-th element s[i]\n",
    " * slicing\n",
    " * length (len)\n",
    " * min, max, count, ..."
   ]
  },
  {
   "cell_type": "code",
   "execution_count": null,
   "id": "de64a0c9",
   "metadata": {},
   "outputs": [],
   "source": [
    "'g' in 'eggs'"
   ]
  },
  {
   "cell_type": "code",
   "execution_count": null,
   "id": "234229a7",
   "metadata": {},
   "outputs": [],
   "source": [
    "'a' + 'b'"
   ]
  },
  {
   "cell_type": "code",
   "execution_count": null,
   "id": "ad4a2332",
   "metadata": {},
   "outputs": [],
   "source": [
    "'a' * 5"
   ]
  },
  {
   "cell_type": "code",
   "execution_count": null,
   "id": "954ea5e9",
   "metadata": {},
   "outputs": [],
   "source": [
    "a = []\n",
    "a.append(2)\n",
    "a.append(3)\n",
    "a"
   ]
  },
  {
   "cell_type": "code",
   "execution_count": null,
   "id": "4fd3bd55",
   "metadata": {},
   "outputs": [],
   "source": [
    "a.append([1, 4, 5])\n",
    "a"
   ]
  },
  {
   "cell_type": "code",
   "execution_count": null,
   "id": "0a8013bf",
   "metadata": {},
   "outputs": [],
   "source": [
    "a.append('hi there')\n",
    "a"
   ]
  },
  {
   "cell_type": "markdown",
   "id": "fbf2f494",
   "metadata": {},
   "source": [
    "### Tuples - Immutable"
   ]
  },
  {
   "cell_type": "code",
   "execution_count": null,
   "id": "d846ef3f",
   "metadata": {},
   "outputs": [],
   "source": [
    "(1, 2,)"
   ]
  },
  {
   "cell_type": "markdown",
   "id": "aa88cdb7",
   "metadata": {},
   "source": [
    "### Lists - mutable"
   ]
  },
  {
   "cell_type": "markdown",
   "id": "7bde6b80",
   "metadata": {},
   "source": [
    "Lists are the most commonly used data structure. Think of it as a sequence of data that is enclosed in square brackets and data are separated by a comma. Each of these data can be accessed by calling it's index value.\n",
    "\n",
    "Lists are declared by just equating a variable to '[ ]' or list."
   ]
  },
  {
   "cell_type": "code",
   "execution_count": null,
   "id": "70f5a58c",
   "metadata": {},
   "outputs": [],
   "source": [
    "lst = [1, 2]"
   ]
  },
  {
   "cell_type": "markdown",
   "id": "1f723bc4",
   "metadata": {},
   "source": [
    "One can directly assign the sequence of data to a list x as shown."
   ]
  },
  {
   "cell_type": "code",
   "execution_count": null,
   "id": "b0bb685c",
   "metadata": {},
   "outputs": [],
   "source": [
    "x = ['apple', 'orange']"
   ]
  },
  {
   "cell_type": "markdown",
   "id": "cac4b8bc",
   "metadata": {},
   "source": [
    "And lists functionality is complete"
   ]
  },
  {
   "cell_type": "code",
   "execution_count": null,
   "id": "50d5f917",
   "metadata": {},
   "outputs": [],
   "source": [
    "lst = [1, 2, 3]"
   ]
  },
  {
   "cell_type": "code",
   "execution_count": null,
   "id": "edc84d87",
   "metadata": {},
   "outputs": [],
   "source": [
    "lst[0] = 5\n",
    "lst"
   ]
  },
  {
   "cell_type": "markdown",
   "id": "5c393afc",
   "metadata": {},
   "source": [
    "There are two methods (append and extend) that are quite similar. Let's check them and see the differences."
   ]
  },
  {
   "cell_type": "code",
   "execution_count": null,
   "id": "2fe32b76",
   "metadata": {},
   "outputs": [],
   "source": [
    "lst.append(7)\n",
    "lst"
   ]
  },
  {
   "cell_type": "code",
   "execution_count": null,
   "id": "c0b7084c",
   "metadata": {},
   "outputs": [],
   "source": [
    "lst.extend([1,2,3])\n",
    "lst"
   ]
  },
  {
   "cell_type": "code",
   "execution_count": null,
   "id": "b8f4d7d3",
   "metadata": {},
   "outputs": [],
   "source": [
    "lst.append([1,2,3])\n",
    "lst"
   ]
  },
  {
   "cell_type": "markdown",
   "id": "955d3e76",
   "metadata": {},
   "source": [
    "Other ways to add elements"
   ]
  },
  {
   "cell_type": "code",
   "execution_count": null,
   "id": "afd736c3",
   "metadata": {},
   "outputs": [],
   "source": [
    "lst += [9, 10]\n",
    "lst"
   ]
  },
  {
   "cell_type": "markdown",
   "id": "3d3439d1",
   "metadata": {},
   "source": [
    "Elements can be removed. Which element does this command remove?"
   ]
  },
  {
   "cell_type": "code",
   "execution_count": null,
   "id": "94b8c86f",
   "metadata": {},
   "outputs": [],
   "source": [
    "lst.remove(1)\n",
    "lst"
   ]
  },
  {
   "cell_type": "markdown",
   "id": "115eee4d",
   "metadata": {},
   "source": [
    "Lists can be sorted, is it an inline sort?"
   ]
  },
  {
   "cell_type": "code",
   "execution_count": null,
   "id": "995f1fce",
   "metadata": {},
   "outputs": [],
   "source": [
    "lst.sort()\n",
    "lst"
   ]
  },
  {
   "cell_type": "code",
   "execution_count": null,
   "id": "7a04d979",
   "metadata": {},
   "outputs": [],
   "source": [
    "a = []\n",
    "type(a)\n"
   ]
  },
  {
   "cell_type": "markdown",
   "id": "4c555ecf",
   "metadata": {},
   "source": [
    "Another example with sort"
   ]
  },
  {
   "cell_type": "code",
   "execution_count": null,
   "id": "ea693e78",
   "metadata": {},
   "outputs": [],
   "source": [
    "names = ['Earth','Air','Fire!','Water']\n",
    "\n",
    "names.sort()\n",
    "print(names)\n",
    "names.sort(reverse=True)\n",
    "print(names)"
   ]
  },
  {
   "cell_type": "code",
   "execution_count": null,
   "id": "0601ed81",
   "metadata": {},
   "outputs": [],
   "source": [
    "names.sort(key=len)\n",
    "print(names)\n",
    "names.sort(key=len,reverse=True)\n",
    "print(names)"
   ]
  },
  {
   "cell_type": "code",
   "execution_count": null,
   "id": "b2a4d663",
   "metadata": {},
   "outputs": [],
   "source": [
    "x = ['apple', 'orange']"
   ]
  },
  {
   "cell_type": "markdown",
   "id": "79575d0c",
   "metadata": {},
   "source": [
    "### Indexing"
   ]
  },
  {
   "cell_type": "markdown",
   "id": "c80d7670",
   "metadata": {},
   "source": [
    "In python, Indexing starts from 0. Thus now the list x, which has two elements will have apple at 0 index and orange at 1 index."
   ]
  },
  {
   "cell_type": "code",
   "execution_count": null,
   "id": "2409cb37",
   "metadata": {},
   "outputs": [],
   "source": [
    "x[0]"
   ]
  },
  {
   "cell_type": "markdown",
   "id": "251bf510",
   "metadata": {},
   "source": [
    "Indexing can also be done in reverse order. That is the last element can be accessed first. Here, indexing starts from -1. Thus index value -1 will be orange and index -2 will be apple."
   ]
  },
  {
   "cell_type": "code",
   "execution_count": null,
   "id": "8ea7e233",
   "metadata": {},
   "outputs": [],
   "source": [
    "x[-1]\n"
   ]
  },
  {
   "cell_type": "markdown",
   "id": "56e69f7e",
   "metadata": {},
   "source": [
    "### slicing"
   ]
  },
  {
   "cell_type": "markdown",
   "id": "087e923b",
   "metadata": {},
   "source": [
    "Indexing was only limited to accessing a single element, Slicing on the other hand is accessing a sequence of data inside the list. In other words \"slicing\" the list.\n",
    "\n",
    "Slicing is done by defining the index values of the first element and the last element from the parent list that is required in the sliced list. It is written as parentlist[ a : b ] where a,b are the index values from the parent list. If a or b is not defined then the index value is considered to be the first value for a if a is not defined and the last value for b when b is not defined."
   ]
  },
  {
   "cell_type": "code",
   "execution_count": null,
   "id": "ea9d0cc0",
   "metadata": {},
   "outputs": [],
   "source": [
    "num = [0,1,2,3,4,5,6,7,8,9]"
   ]
  },
  {
   "cell_type": "code",
   "execution_count": null,
   "id": "37de4e6c",
   "metadata": {},
   "outputs": [],
   "source": [
    "num[0:4]"
   ]
  },
  {
   "cell_type": "code",
   "execution_count": null,
   "id": "3781b510",
   "metadata": {},
   "outputs": [],
   "source": [
    "num[4:]"
   ]
  },
  {
   "cell_type": "markdown",
   "id": "6f47bb44",
   "metadata": {},
   "source": [
    "You can also slice a parent list with a fixed length or step length."
   ]
  },
  {
   "cell_type": "code",
   "execution_count": null,
   "id": "a148fd0e",
   "metadata": {},
   "outputs": [],
   "source": [
    "num[:9:3]"
   ]
  },
  {
   "cell_type": "markdown",
   "id": "65c0d7a9",
   "metadata": {},
   "source": [
    "### Some practice"
   ]
  },
  {
   "cell_type": "markdown",
   "id": "9eac4e35",
   "metadata": {},
   "source": [
    "Generate a list (x) with non consecutive numbers. Then, generate another list (y) with the last two elements from x, and the first element from x."
   ]
  },
  {
   "cell_type": "code",
   "execution_count": null,
   "id": "3338921a",
   "metadata": {},
   "outputs": [],
   "source": []
  },
  {
   "cell_type": "code",
   "execution_count": null,
   "id": "fcd0a1f8",
   "metadata": {},
   "outputs": [],
   "source": []
  },
  {
   "cell_type": "markdown",
   "id": "50e38636",
   "metadata": {},
   "source": [
    "### Ranges - immutable"
   ]
  },
  {
   "cell_type": "markdown",
   "id": "3426e430",
   "metadata": {},
   "source": [
    "The range type represents an immutable sequence of numbers and is commonly used for looping a specific number of times in for loops."
   ]
  },
  {
   "cell_type": "code",
   "execution_count": null,
   "id": "9971ecbb",
   "metadata": {},
   "outputs": [],
   "source": [
    "range(1, 11)"
   ]
  },
  {
   "cell_type": "code",
   "execution_count": null,
   "id": "b55d2847",
   "metadata": {},
   "outputs": [],
   "source": [
    "list(range(1, 11))"
   ]
  },
  {
   "cell_type": "code",
   "execution_count": null,
   "id": "0245d00c",
   "metadata": {},
   "outputs": [],
   "source": [
    "list(range(0, 10, 2))"
   ]
  },
  {
   "cell_type": "code",
   "execution_count": null,
   "id": "71ea1d47",
   "metadata": {},
   "outputs": [],
   "source": [
    "lst = [i/100 for i in range(0, 100, 5)]\n",
    "lst"
   ]
  },
  {
   "cell_type": "markdown",
   "id": "797a1863",
   "metadata": {},
   "source": [
    "## Text Sequence Type — str"
   ]
  },
  {
   "cell_type": "markdown",
   "id": "ecc68721",
   "metadata": {},
   "source": [
    "Textual data in Python is handled with str objects, or strings. Strings are immutable sequences of Unicode code points. String literals are written in a variety of ways:\n",
    "\n",
    " * Single quotes: 'allows embedded \"double\" quotes'\n",
    "\n",
    " * Double quotes: \"allows embedded 'single' quotes\"\n",
    "\n",
    " * Triple quoted: '''Three single quotes''', \"\"\"Three double quotes\"\"\"\n",
    "\n",
    "Triple quoted strings may span multiple lines - all associated whitespace will be included in the string literal.\n",
    "\n"
   ]
  },
  {
   "cell_type": "markdown",
   "id": "8366d639",
   "metadata": {},
   "source": [
    "Which methods can you use with an string? (dir command)"
   ]
  },
  {
   "cell_type": "code",
   "execution_count": null,
   "id": "abda782a",
   "metadata": {},
   "outputs": [],
   "source": [
    "dir('a')"
   ]
  },
  {
   "cell_type": "markdown",
   "id": "5d1477f2",
   "metadata": {},
   "source": [
    "The basic ones:\n",
    " * find\n",
    " * index\n",
    " * replace\n",
    " * split\n",
    " * strip"
   ]
  },
  {
   "cell_type": "markdown",
   "id": "e5ecafe7",
   "metadata": {},
   "source": [
    "Can you get the help text from the str class definition?"
   ]
  },
  {
   "cell_type": "code",
   "execution_count": null,
   "id": "bea3a27f",
   "metadata": {
    "scrolled": true
   },
   "outputs": [],
   "source": [
    "help(str)"
   ]
  },
  {
   "cell_type": "markdown",
   "id": "8067fbff",
   "metadata": {},
   "source": [
    "### Some practice"
   ]
  },
  {
   "cell_type": "code",
   "execution_count": null,
   "id": "34a9095f",
   "metadata": {},
   "outputs": [],
   "source": [
    "text = 'this is an example'"
   ]
  },
  {
   "cell_type": "markdown",
   "id": "1a36040a",
   "metadata": {},
   "source": [
    "Get first letter:"
   ]
  },
  {
   "cell_type": "code",
   "execution_count": null,
   "id": "3b46d748",
   "metadata": {},
   "outputs": [],
   "source": []
  },
  {
   "cell_type": "markdown",
   "id": "fa2838bc",
   "metadata": {},
   "source": [
    "Get last letter"
   ]
  },
  {
   "cell_type": "code",
   "execution_count": null,
   "id": "a69899e7",
   "metadata": {},
   "outputs": [],
   "source": []
  },
  {
   "cell_type": "markdown",
   "id": "0a11c65a",
   "metadata": {},
   "source": [
    "Get odd letters"
   ]
  },
  {
   "cell_type": "code",
   "execution_count": null,
   "id": "52f632d6",
   "metadata": {},
   "outputs": [],
   "source": []
  },
  {
   "cell_type": "markdown",
   "id": "199e24e3",
   "metadata": {},
   "source": [
    "Get last 3 letters"
   ]
  },
  {
   "cell_type": "code",
   "execution_count": null,
   "id": "393370fd",
   "metadata": {},
   "outputs": [],
   "source": []
  },
  {
   "cell_type": "markdown",
   "id": "b49e1433",
   "metadata": {},
   "source": [
    "### printing"
   ]
  },
  {
   "cell_type": "code",
   "execution_count": null,
   "id": "70dd1214",
   "metadata": {},
   "outputs": [],
   "source": [
    "print('some text')"
   ]
  },
  {
   "cell_type": "code",
   "execution_count": null,
   "id": "b463dd01",
   "metadata": {},
   "outputs": [],
   "source": [
    "print('some text {var}'.format(var='123'))"
   ]
  },
  {
   "cell_type": "code",
   "execution_count": null,
   "id": "4e202eec",
   "metadata": {},
   "outputs": [],
   "source": [
    "var = 'a variable with some text'\n",
    "print(f'{var}')"
   ]
  },
  {
   "cell_type": "markdown",
   "id": "730c6110",
   "metadata": {},
   "source": [
    "printf-style String Formatting. \n",
    "\n",
    "String objects have one unique built-in operation: the % operator (modulo). This is also known as the string formatting or interpolation operator. Given format % values (where format is a string), % conversion specifications in format are replaced with zero or more elements of values. The effect is similar to using the sprintf() in the C language."
   ]
  },
  {
   "cell_type": "code",
   "execution_count": null,
   "id": "87a94bcd",
   "metadata": {},
   "outputs": [],
   "source": [
    "print('%(language)s has %(number)03d quote types.' %\n",
    "      {'language': \"Python\", \"number\": 2})"
   ]
  },
  {
   "cell_type": "markdown",
   "id": "0c64139d",
   "metadata": {},
   "source": [
    "## Set Types — set, frozenset"
   ]
  },
  {
   "cell_type": "markdown",
   "id": "2178871d",
   "metadata": {},
   "source": [
    "A set object is an unordered collection of distinct hashable objects. Common uses include membership testing, removing duplicates from a sequence, and computing mathematical operations such as intersection, union, difference, and symmetric difference."
   ]
  },
  {
   "cell_type": "code",
   "execution_count": null,
   "id": "7ede6af7",
   "metadata": {},
   "outputs": [],
   "source": [
    "s = set()\n",
    "s.add(2)\n",
    "s.add(1)\n",
    "s.add(2)\n",
    "s"
   ]
  },
  {
   "cell_type": "code",
   "execution_count": null,
   "id": "c157bb52",
   "metadata": {},
   "outputs": [],
   "source": [
    "s = {1, 2, 3}\n",
    "type(s), s"
   ]
  },
  {
   "cell_type": "code",
   "execution_count": null,
   "id": "f3924761",
   "metadata": {},
   "outputs": [],
   "source": [
    "vowels = frozenset(('a', 'e', 'i', 'o', 'u'))\n",
    "vowels"
   ]
  },
  {
   "cell_type": "markdown",
   "id": "696454d5",
   "metadata": {},
   "source": [
    "Both set and frozenset support set to set comparisons. Two sets are equal if and only if every element of each set is contained in the other"
   ]
  },
  {
   "cell_type": "markdown",
   "id": "6437eb46",
   "metadata": {},
   "source": [
    "## Mapping Types — dict"
   ]
  },
  {
   "cell_type": "code",
   "execution_count": null,
   "id": "e6cb68e1",
   "metadata": {},
   "outputs": [],
   "source": [
    "{'jack': 4098, 'sjoerd': 4127}"
   ]
  },
  {
   "cell_type": "code",
   "execution_count": null,
   "id": "c066ac46",
   "metadata": {},
   "outputs": [],
   "source": [
    "d = {'jack': 4098, 'sjoerd': 4127}\n",
    "d['jack']\n"
   ]
  },
  {
   "cell_type": "code",
   "execution_count": null,
   "id": "9d118241",
   "metadata": {},
   "outputs": [],
   "source": [
    "dir(d)"
   ]
  }
 ],
 "metadata": {
  "kernelspec": {
   "display_name": "Python 3 (ipykernel)",
   "language": "python",
   "name": "python3"
  },
  "language_info": {
   "codemirror_mode": {
    "name": "ipython",
    "version": 3
   },
   "file_extension": ".py",
   "mimetype": "text/x-python",
   "name": "python",
   "nbconvert_exporter": "python",
   "pygments_lexer": "ipython3",
   "version": "3.11.0"
  }
 },
 "nbformat": 4,
 "nbformat_minor": 5
}

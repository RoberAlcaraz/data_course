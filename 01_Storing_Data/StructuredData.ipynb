{
 "cells": [
  {
   "cell_type": "markdown",
   "id": "3ef3f532",
   "metadata": {
    "slideshow": {
     "slide_type": "slide"
    }
   },
   "source": [
    "# Data Structures\n",
    "A data structure is a particular way of organising and storing data in a computer such that it can be accessed and modified efficiently\n",
    "\n",
    "A data structure consists of:\n",
    " - A collection of data values\n",
    " - The relationships among them\n",
    " - And the functions or operations that can be applied to the data\n",
    "\n",
    "3 different data structures:\n",
    "- Structured Data\n",
    "- Unstructred Data\n",
    "- Semi-structured Data "
   ]
  },
  {
   "cell_type": "markdown",
   "id": "1cafef98",
   "metadata": {
    "slideshow": {
     "slide_type": "slide"
    }
   },
   "source": [
    "# Structured Data\n",
    "\n",
    "- Structured data is data that adheres to a pre-defined data model and is therefore straightforward to analyse\n",
    "\n",
    "- Structured data conforms to a tabular format with relationship between the different rows and columns\n",
    "\n",
    "    \n",
    "| Date | Sensor ID | Temperature C | Humidity % |\n",
    "| --- | --- | --- | --- |\n",
    "| 2022-07-03 | 346 | 23 | 74 |\n",
    "| 2022-07-04 | 345 | 13 | 64 |\n",
    "| 2022-07-06 | 343 | 25 | 78 |\n",
    "| 2022-07-10 | 346 | 30 | 56 |\n",
    "| 2022-08-03 | 343 | 26 | 72 |\n",
    "\n",
    "\n",
    " - Common examples of structured data are spreadsheet files (CVS), HDF5, or SQL databases"
   ]
  },
  {
   "cell_type": "markdown",
   "id": "58d7bc69",
   "metadata": {
    "slideshow": {
     "slide_type": "slide"
    }
   },
   "source": [
    "## The Model\n",
    "\n",
    "- Structured data depends on the existence of a data model – a model of how data can be stored, processed and accessed. \n",
    "- Because of a data model, each field is discrete and can be accessed separately or jointly along with data from other fields. \n",
    "  - That's why Structured data extremely powerful: it is possible to quickly aggregate data from various locations in the database.\n",
    "\n",
    "![](bookstore.svg)"
   ]
  },
  {
   "cell_type": "markdown",
   "id": "912ef576",
   "metadata": {
    "slideshow": {
     "slide_type": "slide"
    }
   },
   "source": [
    "# Unstructured Data\n",
    "\n",
    " - Unstructured data is information that either does not have a predefined data model or is not organised in a pre-defined manner.\n",
    " - Unstructured information is typically text-heavy, but may contain data such as dates, numbers, facts...\n",
    "\n",
    "The ability to analyse unstructured data is especially relevant in the context of Big Data, since a large part of data in organisations is unstructured. \n",
    "\n",
    "Compared to structured data, it usually has irregularities and ambiguities that make it difficult to manage using traditional programs\n",
    " \n",
    "- Some examples of unstructured data: Pictures, PDF docs, audio & video files...\n",
    "    - Imagine a research institute that wants to hire a web developer and receives a bunch of offers and CVs. (Docs, PDFs, emails...\n",
    "    - Not so easy to create a model and store all details in a Structured way\n",
    "![](cvs.jpg)  \n",
    "  \n",
    " The ability to extract value from unstructured data is one of main drivers behind the quick growth of Big Data."
   ]
  },
  {
   "cell_type": "markdown",
   "id": "2ff00da2",
   "metadata": {
    "slideshow": {
     "slide_type": "slide"
    }
   },
   "source": [
    "# Semi-structured Data\n",
    "\n",
    "A form of structured data that does not conform with the formal structure of data models.\n",
    "- It contains tags or other markers to separate semantic elements and enforce hierarchies of records and fields within the data. \n",
    "- It is also known as self-describing structure.\n",
    "- Unlike structured Data, does not depends on a predefined model.\n",
    "    - A new item to store may have one or more new fields previously non-existent.\n",
    "\n",
    " - Examples of semi-structured data formats: \n",
    "   - JSON and derivatives\n",
    "   - Markup languages like XML\n",
    "   - Pickle [python] (not safe: arbitrary code execution vulnerability)\n",
    "\n",
    " - NoSQL databases like MongoDB store the data in BSON format (similar to JSON)\n",
    " - Working example: \n",
    "   - MAC [Manfred Awesomic CV](https://github.com/getmanfred/mac#manfred-awesomic-cv)<span style=\"color:lightgray;font-size:80%\">[CTRL + W] to close</span>\n",
    "\n",
    "Semi-structured data is considerably easier to analyse than unstructured data.\n",
    "\n",
    "Many Big Data solutions and tools have the ability to manage either JSON or XML. This reduces the complexity to analyse semi-structured data, compared to unstructured data.\n"
   ]
  },
  {
   "cell_type": "markdown",
   "id": "e4e8864b",
   "metadata": {
    "slideshow": {
     "slide_type": "slide"
    }
   },
   "source": [
    "# Database Management systems (DBMS)\n",
    " - Software layer on top of OS used for creating & managing Databases. \n",
    " - Usualy DBMS store the data in one or more files in the FS (User/aplication does not need to know the details of underlying storage)\n",
    " ![](DB.svg)\n",
    " - Besides the data itself, organized in tables, databases may include:\n",
    "     - Indexes (make searches a lot more efficient)\n",
    "     - Relationships between tables\n",
    "     - views (virtual tables based on the result of a query)\n",
    "     - procedures or built-in functions (to keep specific logic in the DBMS (validation, access control, some calculations))\n",
    " - Inserting or accesing data in a database is very different from reading or writing to the FS. \n",
    "     - It is done via queries that specify the kind of data, format and order\n",
    " - There are DBMS for both structured (SQL. ie: MySQL,Postgress,\"SQlite\") and semi-structured data (NoSQL. ie: MongoDB)"
   ]
  },
  {
   "cell_type": "markdown",
   "id": "1bf13ba1",
   "metadata": {},
   "source": [
    "# Advantages of Data Structures and DBMS\n",
    " * Data is efficiently stored in a structured an organized way that makes possible to make faster and more complex queries\n",
    " * Easily used by machine learning algorithms. The specific and organized nature of structured data allows for easy manipulation\n",
    " * No need to reinvent the weel. There are a lot of tools and libraries that have been developed for using and analyzing structured data. "
   ]
  }
 ],
 "metadata": {
  "celltoolbar": "Slideshow",
  "kernelspec": {
   "display_name": "Python 3 (ipykernel)",
   "language": "python",
   "name": "python3"
  },
  "language_info": {
   "codemirror_mode": {
    "name": "ipython",
    "version": 3
   },
   "file_extension": ".py",
   "mimetype": "text/x-python",
   "name": "python",
   "nbconvert_exporter": "python",
   "pygments_lexer": "ipython3",
   "version": "3.9.10"
  }
 },
 "nbformat": 4,
 "nbformat_minor": 5
}

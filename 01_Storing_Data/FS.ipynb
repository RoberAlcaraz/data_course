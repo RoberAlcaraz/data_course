{
 "cells": [
  {
   "cell_type": "markdown",
   "id": "bdfd8cbd",
   "metadata": {
    "slideshow": {
     "slide_type": "slide"
    }
   },
   "source": [
    "# File System\n",
    "O.S. layer that controls how data is stored and retrieved\n",
    "![](FS.svg)\n",
    "\n",
    " - Example of no File System at all: Recording music to a tape\n",
    "     - Only data is stored\n",
    " - Example of File System: MP3 player with an album in each folder and a song in each file.\n",
    "     - Data + Metadata\n",
    " "
   ]
  },
  {
   "cell_type": "markdown",
   "id": "82423d2e",
   "metadata": {
    "slideshow": {
     "slide_type": "slide"
    }
   },
   "source": [
    "# Files & Directories\n",
    "There are 2 types of data stored in file systems:\n",
    " - Files\n",
    "     - The real and useful data\n",
    " - Directories (Or Folders)\n",
    "     - An special type of file that contain the names and ubication on disk of other Files and Directories\n",
    "\n",
    "Directory structure in a file system is hierarchical (Tree fashion)\n",
    "![](FilesAndFolders.png)\n",
    "[De FrancoGG - Trabajo propio, CC BY-SA 3.0](https://commons.wikimedia.org/w/index.php?curid=766938)\n",
    " "
   ]
  },
  {
   "cell_type": "code",
   "execution_count": 1,
   "id": "49d43697",
   "metadata": {
    "slideshow": {
     "slide_type": "slide"
    }
   },
   "outputs": [
    {
     "name": "stdout",
     "output_type": "stream",
     "text": [
      "\u001b[01;34mroot\u001b[00m\r\n",
      "├── \u001b[01;34mbranch_1\u001b[00m\r\n",
      "│   ├── \u001b[01;34mbranch_A\u001b[00m\r\n",
      "│   │   ├── leave.dat\r\n",
      "│   │   └── leave.txt\r\n",
      "│   ├── \u001b[01;34mbranch_B\u001b[00m\r\n",
      "│   │   ├── leave.doc\r\n",
      "│   │   ├── \u001b[01;35mleave.gif\u001b[00m\r\n",
      "│   │   └── leave.txt\r\n",
      "│   └── \u001b[01;34mbranch_C\u001b[00m\r\n",
      "│       ├── \u001b[01;34mbranch_1C1\u001b[00m\r\n",
      "│       │   └── leave.txt\r\n",
      "│       ├── \u001b[01;34mbranch_1C2\u001b[00m\r\n",
      "│       │   ├── leave.dat\r\n",
      "│       │   └── leave.doc\r\n",
      "│       ├── \u001b[01;35mleave.jpeg\u001b[00m\r\n",
      "│       └── leave.txt\r\n",
      "└── \u001b[01;34mbranch_2\u001b[00m\r\n",
      "    ├── \u001b[01;34mbranch_A\u001b[00m\r\n",
      "    │   ├── \u001b[01;34mbranch_2A1\u001b[00m\r\n",
      "    │   │   ├── \u001b[01;35mleave.jpeg\u001b[00m\r\n",
      "    │   │   ├── leave.old\r\n",
      "    │   │   └── leave.txt\r\n",
      "    │   ├── \u001b[01;34mbranch_2A2\u001b[00m\r\n",
      "    │   │   ├── leave.doc\r\n",
      "    │   │   ├── \u001b[01;35mleave.jpeg\u001b[00m\r\n",
      "    │   │   └── leave.txt\r\n",
      "    │   ├── leave.doc\r\n",
      "    │   └── leave.txt\r\n",
      "    └── \u001b[01;34mbranch_B\u001b[00m\r\n",
      "        └── leave.txt\r\n",
      "\r\n",
      "11 directories, 19 files\r\n"
     ]
    }
   ],
   "source": [
    "! tree root"
   ]
  },
  {
   "cell_type": "markdown",
   "id": "16fd036e",
   "metadata": {
    "slideshow": {
     "slide_type": "slide"
    }
   },
   "source": [
    "# Paths\n",
    "Access to a particular file is done specifying it's path. There are two ways of referencing a file:\n",
    " - Absolute path\n",
    "     - `/home/ruben/Documents/curso\\ 2023/FS\\ vs\\ DB/root/branch_1/branch_A/leave.txt`\n",
    " - Relative path:\n",
    "     - From `/home/ruben/Documents/curso\\ 2023/FS\\ vs\\ DB`\n",
    "         - `root/branch_1/branch_A/leave.txt`\n",
    "     - From `/home/ruben/Documents/curso\\ 2023/FS\\ vs\\ DB/root/branch_2`\n",
    "         - `../branch_1/branch_A/leave.txt`\n",
    "     - From `/home/ruben/Documents/curso\\ 2023/FS\\ vs\\ DB/root/branch_1/branch_A/`\n",
    "         - `leave.txt`\n",
    "         - `./leave.txt`\n",
    "\n",
    "Not to confuse with $PATH environment variable:\n",
    " - \\$PATH is a list of directories where the system will search for executables when a command is issued on the terminal.\n"
   ]
  },
  {
   "cell_type": "code",
   "execution_count": 5,
   "id": "5471184b",
   "metadata": {
    "slideshow": {
     "slide_type": "slide"
    }
   },
   "outputs": [
    {
     "name": "stdout",
     "output_type": "stream",
     "text": [
      "/home/ruben/bin/accounting\t\t  /home/ruben/bin/pringer_time.py\r\n",
      "/home/ruben/bin/hostinfo\t\t  /home/ruben/bin/shrinkpdf.sh\r\n",
      "/home/ruben/bin/nuredduna-monitoring.txt\r\n"
     ]
    }
   ],
   "source": [
    "!ls /home/ruben/bin/*in*"
   ]
  },
  {
   "cell_type": "code",
   "execution_count": 6,
   "id": "e4ab94ba",
   "metadata": {
    "slideshow": {
     "slide_type": "fragment"
    }
   },
   "outputs": [
    {
     "name": "stdout",
     "output_type": "stream",
     "text": [
      "8 Cores - 15862 MB\r\n"
     ]
    }
   ],
   "source": [
    "!/home/ruben/bin/hostinfo"
   ]
  },
  {
   "cell_type": "code",
   "execution_count": 7,
   "id": "695aeeb6",
   "metadata": {
    "slideshow": {
     "slide_type": "fragment"
    }
   },
   "outputs": [
    {
     "name": "stdout",
     "output_type": "stream",
     "text": [
      "/home/ruben/.pyenv/versions/curso_python_23/bin:/home/ruben/.pyenv/libexec:/home/ruben/.pyenv/plugins/python-build/bin:/home/ruben/.pyenv/plugins/pyenv-virtualenv/bin:/home/ruben/.pyenv/plugins/pyenv-update/bin:/home/ruben/.pyenv/plugins/pyenv-installer/bin:/home/ruben/.pyenv/plugins/pyenv-doctor/bin:/home/ruben/.pyenv/plugins/pyenv-virtualenv/shims:/home/ruben/.pyenv/shims:/home/ruben/.pyenv/bin:/common/opt_intel/oneapi/vtune/2021.3.0/bin64:/common/opt_intel/oneapi/vpl/2021.2.2/bin:/common/opt_intel/oneapi/mkl/latest/bin/intel64:/common/opt_intel/oneapi/itac/2021.2.0/bin:/common/opt_intel/oneapi/itac/2021.2.0/bin:/common/opt_intel/oneapi/inspector/2021.2.0/bin64:/common/opt_intel/oneapi/dpcpp-ct/2021.2.0/bin:/common/opt_intel/oneapi/dev-utilities/2021.2.0/bin:/common/opt_intel/oneapi/debugger/10.1.1/gdb/intel64/bin:/common/opt_intel/oneapi/compiler/2021.2.0/linux/lib/oclfpga/llvm/aocl-bin:/common/opt_intel/oneapi/compiler/2021.2.0/linux/lib/oclfpga/bin:/common/opt_intel/oneapi/compiler/2021.2.0/linux/bin/intel64:/common/opt_intel/oneapi/compiler/2021.2.0/linux/bin:/common/opt_intel/oneapi/compiler/2021.2.0/linux/ioc/bin:/common/opt_intel/oneapi/clck/2021.2.2/bin/intel64:/common/opt_intel/oneapi/advisor/2021.2.0/bin64:/common/conda/condabin:/opt/AMD/aocc-compiler-2.1.0/bin:\u001b[01;31m\u001b[K/home/ruben/bin\u001b[m\u001b[K:/home/ruben/.local/bin:/usr/local/sbin:/usr/local/bin:/usr/sbin:/usr/bin:/sbin:/bin:/usr/games:/usr/local/games:/snap/bin:/common/MATLAB/R2021a/bin:/common/slurm/bin:/common/slurm/sbin\r\n"
     ]
    }
   ],
   "source": [
    "!echo $PATH|grep --color /home/ruben/bin"
   ]
  },
  {
   "cell_type": "code",
   "execution_count": 8,
   "id": "bcc523b1",
   "metadata": {
    "slideshow": {
     "slide_type": "fragment"
    }
   },
   "outputs": [
    {
     "name": "stdout",
     "output_type": "stream",
     "text": [
      "8 Cores - 15862 MB\r\n"
     ]
    }
   ],
   "source": [
    "!hostinfo"
   ]
  },
  {
   "cell_type": "markdown",
   "id": "5c5e71c1",
   "metadata": {
    "slideshow": {
     "slide_type": "slide"
    }
   },
   "source": [
    "# Inodes\n",
    "Inodes are a very important part of file systems. For each file or directory of the file system structure, an inode is created.\n",
    " - Inodes store useful information about the data.\n",
    "     - Owner\n",
    "     - Access/creation/modification times\n",
    "     - Permissions\n",
    "     - The first data block \n",
    " - The number of inodes available is usually fixed on file system creation\n",
    "     - A very large amount of folders, or very small files (even empty) would exhaust the number of inodes. That would lead to: \"No space left on device\"\n",
    "     \n"
   ]
  },
  {
   "cell_type": "code",
   "execution_count": 5,
   "id": "01655a17",
   "metadata": {
    "slideshow": {
     "slide_type": "skip"
    }
   },
   "outputs": [],
   "source": [
    "!#mkdir disk1m\n",
    "!#dd if=/dev/zero of=disk1m.img bs=1k count=1k\n",
    "!#mkfs.ext4 disk1m.img \n",
    "!#sudo mount -o loop disk1m.img disk1m/\n",
    "!#sudo chown -R ruben.users disk1m/"
   ]
  },
  {
   "cell_type": "code",
   "execution_count": 12,
   "id": "ed88c7bc",
   "metadata": {
    "slideshow": {
     "slide_type": "slide"
    }
   },
   "outputs": [
    {
     "name": "stdout",
     "output_type": "stream",
     "text": [
      "\n",
      "SIZE OF FILE SYSTEM\n",
      "-------------------\n",
      "Filesystem      Size  Used Avail Use% Mounted on\n",
      "/dev/loop20     992K  8.0K  916K   1% /home/ruben/Documents/curso 2023/01_Storing_Data/disk1m\n",
      "\n",
      "INODES\n",
      "------\n",
      "Filesystem     Inodes IUsed IFree IUse% Mounted on\n",
      "/dev/loop20       128    10   118    8% /home/ruben/Documents/curso 2023/01_Storing_Data/disk1m\n"
     ]
    }
   ],
   "source": [
    "## !tree disk1m\n",
    "!echo -e \"\\nSIZE OF FILE SYSTEM\\n-------------------\"\n",
    "!df -h disk1m\n",
    "!echo -e \"\\nINODES\\n------\"\n",
    "!df -i disk1m"
   ]
  },
  {
   "cell_type": "code",
   "execution_count": 10,
   "id": "761d83a2",
   "metadata": {
    "scrolled": true,
    "slideshow": {
     "slide_type": "fragment"
    }
   },
   "outputs": [
    {
     "name": "stdout",
     "output_type": "stream",
     "text": [
      "mkdir: cannot create directory ‘disk1m/directory1’: Bad message\n",
      "mkdir: cannot create directory ‘disk1m/directory2’: Bad message\n",
      "mkdir: cannot create directory ‘disk1m/directory2’: Bad message\n",
      "mkdir: cannot create directory ‘disk1m/directory2’: Bad message\n",
      "mkdir: cannot create directory ‘disk1m/directory2’: Bad message\n",
      "touch: cannot touch 'disk1m/directory1/file_1': Bad message\n",
      "touch: cannot touch 'disk1m/directory1/file_2': Bad message\n",
      "touch: cannot touch 'disk1m/directory1/file_3': Bad message\n",
      "touch: cannot touch 'disk1m/directory1/file_4': Bad message\n",
      "touch: cannot touch 'disk1m/directory1/file_5': Bad message\n",
      "touch: cannot touch 'disk1m/directory1/file_6': Bad message\n",
      "touch: cannot touch 'disk1m/directory1/file_7': Bad message\n",
      "touch: cannot touch 'disk1m/directory1/file_8': Bad message\n",
      "touch: cannot touch 'disk1m/directory1/file_9': Bad message\n",
      "touch: cannot touch 'disk1m/directory1/file_10': Bad message\n",
      "touch: cannot touch 'disk1m/directory1/file_11': Bad message\n",
      "touch: cannot touch 'disk1m/directory1/file_12': Bad message\n",
      "touch: cannot touch 'disk1m/directory1/file_13': Bad message\n",
      "touch: cannot touch 'disk1m/directory1/file_14': Bad message\n",
      "touch: cannot touch 'disk1m/directory1/file_15': Bad message\n",
      "touch: cannot touch 'disk1m/directory1/file_16': Bad message\n",
      "touch: cannot touch 'disk1m/directory1/file_17': Bad message\n",
      "touch: cannot touch 'disk1m/directory1/file_18': Bad message\n",
      "touch: cannot touch 'disk1m/directory1/file_19': Bad message\n",
      "touch: cannot touch 'disk1m/directory1/file_20': Bad message\n",
      "touch: cannot touch 'disk1m/directory1/file_21': Bad message\n",
      "touch: cannot touch 'disk1m/directory1/file_22': Bad message\n",
      "touch: cannot touch 'disk1m/directory1/file_23': Bad message\n",
      "touch: cannot touch 'disk1m/directory1/file_24': Bad message\n",
      "touch: cannot touch 'disk1m/directory1/file_25': Bad message\n",
      "touch: cannot touch 'disk1m/directory1/file_26': Bad message\n",
      "touch: cannot touch 'disk1m/directory1/file_27': Bad message\n",
      "touch: cannot touch 'disk1m/directory1/file_28': Bad message\n",
      "touch: cannot touch 'disk1m/directory1/file_29': Bad message\n",
      "touch: cannot touch 'disk1m/directory1/file_30': Bad message\n",
      "touch: cannot touch 'disk1m/directory1/file_31': Bad message\n",
      "touch: cannot touch 'disk1m/directory1/file_32': Bad message\n",
      "touch: cannot touch 'disk1m/directory1/file_33': Bad message\n",
      "touch: cannot touch 'disk1m/directory1/file_34': Bad message\n",
      "touch: cannot touch 'disk1m/directory1/file_35': Bad message\n",
      "touch: cannot touch 'disk1m/directory1/file_36': Bad message\n",
      "touch: cannot touch 'disk1m/directory1/file_37': Bad message\n",
      "touch: cannot touch 'disk1m/directory1/file_38': Bad message\n",
      "touch: cannot touch 'disk1m/directory1/file_39': Bad message\n",
      "touch: cannot touch 'disk1m/directory1/file_40': Bad message\n",
      "touch: cannot touch 'disk1m/directory1/file_41': Bad message\n",
      "touch: cannot touch 'disk1m/directory1/file_42': Bad message\n",
      "touch: cannot touch 'disk1m/directory1/file_43': Bad message\n",
      "touch: cannot touch 'disk1m/directory1/file_44': Bad message\n",
      "touch: cannot touch 'disk1m/directory1/file_45': Bad message\n",
      "touch: cannot touch 'disk1m/directory1/file_46': Bad message\n",
      "touch: cannot touch 'disk1m/directory1/file_47': Bad message\n",
      "touch: cannot touch 'disk1m/directory1/file_48': Bad message\n",
      "touch: cannot touch 'disk1m/directory1/file_49': Bad message\n",
      "touch: cannot touch 'disk1m/directory1/file_50': Bad message\n",
      "touch: cannot touch 'disk1m/directory1/file_51': Bad message\n",
      "touch: cannot touch 'disk1m/directory1/file_52': Bad message\n",
      "touch: cannot touch 'disk1m/directory1/file_53': Bad message\n",
      "touch: cannot touch 'disk1m/directory1/file_54': Bad message\n",
      "touch: cannot touch 'disk1m/directory1/file_55': Bad message\n",
      "touch: cannot touch 'disk1m/directory1/file_56': Bad message\n",
      "touch: cannot touch 'disk1m/directory1/file_57': Bad message\n",
      "touch: cannot touch 'disk1m/directory1/file_58': Bad message\n",
      "touch: cannot touch 'disk1m/directory1/file_59': Bad message\n",
      "touch: cannot touch 'disk1m/directory1/file_60': Bad message\n",
      "touch: cannot touch 'disk1m/directory1/file_61': Bad message\n",
      "touch: cannot touch 'disk1m/directory1/file_62': Bad message\n",
      "touch: cannot touch 'disk1m/directory1/file_63': Bad message\n",
      "touch: cannot touch 'disk1m/directory1/file_64': Bad message\n",
      "touch: cannot touch 'disk1m/directory1/file_65': Bad message\n",
      "touch: cannot touch 'disk1m/directory1/file_66': Bad message\n",
      "touch: cannot touch 'disk1m/directory1/file_67': Bad message\n",
      "touch: cannot touch 'disk1m/directory1/file_68': Bad message\n",
      "touch: cannot touch 'disk1m/directory1/file_69': Bad message\n",
      "touch: cannot touch 'disk1m/directory1/file_70': Bad message\n",
      "touch: cannot touch 'disk1m/directory1/file_71': Bad message\n",
      "touch: cannot touch 'disk1m/directory1/file_72': Bad message\n",
      "touch: cannot touch 'disk1m/directory1/file_73': Bad message\n",
      "touch: cannot touch 'disk1m/directory1/file_74': Bad message\n",
      "touch: cannot touch 'disk1m/directory1/file_75': Bad message\n",
      "touch: cannot touch 'disk1m/directory1/file_76': Bad message\n",
      "touch: cannot touch 'disk1m/directory1/file_77': Bad message\n",
      "touch: cannot touch 'disk1m/directory1/file_78': Bad message\n",
      "touch: cannot touch 'disk1m/directory1/file_79': Bad message\n",
      "touch: cannot touch 'disk1m/directory1/file_80': Bad message\n",
      "touch: cannot touch 'disk1m/directory1/file_81': Bad message\n",
      "touch: cannot touch 'disk1m/directory1/file_82': Bad message\n",
      "touch: cannot touch 'disk1m/directory1/file_83': Bad message\n",
      "touch: cannot touch 'disk1m/directory1/file_84': Bad message\n",
      "touch: cannot touch 'disk1m/directory1/file_85': Bad message\n",
      "touch: cannot touch 'disk1m/directory1/file_86': Bad message\n",
      "touch: cannot touch 'disk1m/directory1/file_87': Bad message\n",
      "touch: cannot touch 'disk1m/directory1/file_88': Bad message\n",
      "touch: cannot touch 'disk1m/directory1/file_89': Bad message\n",
      "touch: cannot touch 'disk1m/directory1/file_90': Bad message\n",
      "touch: cannot touch 'disk1m/directory1/file_91': Bad message\n",
      "touch: cannot touch 'disk1m/directory1/file_92': Bad message\n",
      "touch: cannot touch 'disk1m/directory1/file_93': Bad message\n",
      "touch: cannot touch 'disk1m/directory1/file_94': Bad message\n",
      "touch: cannot touch 'disk1m/directory1/file_95': Bad message\n",
      "touch: cannot touch 'disk1m/directory1/file_96': Bad message\n",
      "touch: cannot touch 'disk1m/directory1/file_97': Bad message\n",
      "touch: cannot touch 'disk1m/directory1/file_98': Bad message\n",
      "touch: cannot touch 'disk1m/directory1/file_99': Bad message\n",
      "touch: cannot touch 'disk1m/directory1/file_100': Bad message\n",
      "touch: cannot touch 'disk1m/directory1/file_101': Bad message\n",
      "touch: cannot touch 'disk1m/directory1/file_102': Bad message\n",
      "touch: cannot touch 'disk1m/directory1/file_103': Bad message\n",
      "touch: cannot touch 'disk1m/directory1/file_104': Bad message\n",
      "touch: cannot touch 'disk1m/directory1/file_105': Bad message\n",
      "touch: cannot touch 'disk1m/directory1/file_106': Bad message\n",
      "touch: cannot touch 'disk1m/directory1/file_107': Bad message\n",
      "touch: cannot touch 'disk1m/directory1/file_108': Bad message\n",
      "touch: cannot touch 'disk1m/directory1/file_109': Bad message\n",
      "touch: cannot touch 'disk1m/directory1/file_110': Bad message\n",
      "touch: cannot touch 'disk1m/directory1/file_111': Bad message\n",
      "touch: cannot touch 'disk1m/directory1/file_112': Bad message\n",
      "touch: cannot touch 'disk1m/directory1/file_113': Bad message\n",
      "touch: cannot touch 'disk1m/directory1/file_114': Bad message\n",
      "touch: cannot touch 'disk1m/directory1/file_115': Bad message\n",
      "touch: cannot touch 'disk1m/directory1/file_116': Bad message\n",
      "touch: cannot touch 'disk1m/directory1/file_117': Bad message\n",
      "touch: cannot touch 'disk1m/directory1/file_118': Bad message\n",
      "touch: cannot touch 'disk1m/directory1/file_119': Bad message\n",
      "touch: cannot touch 'disk1m/directory1/file_120': Bad message\n"
     ]
    }
   ],
   "source": [
    "!mkdir disk1m/directory1\n",
    "!mkdir -p disk1m/directory2/dirA\n",
    "!mkdir -p disk1m/directory2/dirB disk1m/directory2/dirC disk1m/directory2/dirD\n",
    "!for i in `seq 1 120`; do touch disk1m/directory1/file_$i; done"
   ]
  },
  {
   "cell_type": "code",
   "execution_count": 74,
   "id": "1636a485",
   "metadata": {
    "slideshow": {
     "slide_type": "fragment"
    }
   },
   "outputs": [],
   "source": [
    "!rm -r disk1m/*"
   ]
  },
  {
   "cell_type": "markdown",
   "id": "9f601e5e",
   "metadata": {
    "slideshow": {
     "slide_type": "slide"
    }
   },
   "source": [
    "# Using the File System from your program\n",
    "- Open (a path must be provided)\n",
    "    - Access (Read or write)\n",
    "- Close\n",
    "    \n",
    "Example: Opening the file `/home/ruben/Documents/curso\\ 2023/FS\\ vs\\ DB/root/branch_1/branch_A/leave.txt` means:\n",
    " - Reading the first inode in the path (/home/\n",
    " - Check permissions for that directory\n",
    " - Get the inode number for the next directory in the path (/home/ruben/)\n",
    " - Check permissions... and repeat till the last directory.\n",
    " - Get the disk block corresponding to the file `leave.txt`\n",
    " - Start reading or writing as needed.\n",
    " \n",
    "While the file remains \"open\" in your program, you keep on the main memory the pointer to that particular file on disk, and some buffers/caches that accelerate & optimize the access to the file. \n",
    "\n",
    "That's why it is **very important** to close the files when you finish operations on it.\n"
   ]
  },
  {
   "cell_type": "code",
   "execution_count": 13,
   "id": "5a2b8366",
   "metadata": {
    "slideshow": {
     "slide_type": "slide"
    }
   },
   "outputs": [
    {
     "name": "stdout",
     "output_type": "stream",
     "text": [
      "Esto es todo amigos\n",
      "\n",
      "doing something more\n",
      "...and forgot closing...\n"
     ]
    }
   ],
   "source": [
    "file = open('file.txt','r')\n",
    "data = file.read()\n",
    "\n",
    "print(data)\n",
    "print(\"doing something more\")\n",
    "print(\"...and forgot closing...\")\n",
    "\n",
    "\n",
    "\n",
    "file.close()\n"
   ]
  },
  {
   "cell_type": "code",
   "execution_count": null,
   "id": "3ca4fc3c",
   "metadata": {
    "slideshow": {
     "slide_type": "fragment"
    }
   },
   "outputs": [],
   "source": [
    "with open('file.txt','r') as file:\n",
    "    data=file.read()\n",
    "print(data)\n",
    "print(\"doing something more\")\n",
    "print(\"...but file was already closed...\")\n"
   ]
  },
  {
   "cell_type": "markdown",
   "id": "21cc996b",
   "metadata": {},
   "source": [
    "# Compression\n",
    "\n",
    "Compression is possible thanks to redundancy inherent to data.\n",
    "\n",
    "A loosless compression algorithm analizes the input data and tries to remove redundancy storing only the \n",
    "\n",
    "**Internet Slang compression example:**\n",
    " * By the way, for your information: As far as I know, if you read the fine manual as soon as possible you'll understand.\n",
    " * BTW, FYI: AFAIK, if you RTFM ASAP you'll understand.\n",
    "\n",
    "**Pros and cons**\n",
    " * Pros:\n",
    "   * Lower space occupied on disk\n",
    "   * Faster data transfers\n",
    "\n",
    " * Cons:\n",
    "   * Higher CPU utilization\n",
    "   * Increase time to access the compressed data\n",
    "\n",
    "Using compression to store data is a trade-off. Before deciding we shoud consider:\n",
    " * How much \"compressible\" is my data (Compress ratio)\n",
    " * How often will I have to access/modify that data\n",
    " * Compress all data in a big file / or is it better to divide it in chunks\n",
    "\n",
    "Most frequent compression algorithms:\n",
    "\n",
    " * **Gzip** (1992 - most popular, very low memory footprint)\n",
    " * **Bzip2** (1996 - Better compression, CPU intensive, More memory)\n",
    " * **Zstandard** (2015 - Better compression than GZIP, much faster, specially decompressing. Memory intensive)"
   ]
  },
  {
   "cell_type": "code",
   "execution_count": 14,
   "id": "659c1ebf",
   "metadata": {},
   "outputs": [],
   "source": [
    "import gzip\n",
    "import bz2\n",
    "import zstandard as zstd\n",
    "\n",
    "data = \"\"\"\n",
    "Demasiadas palabras y muy poco espacio en disco.\n",
    "\n",
    "    Vamos a guardar esto comprimido.\n",
    "\n",
    "Lorem ipsum dolor sit amet, consectetur adipiscing elit.\n",
    "Nunc fringilla sagittis ante. Sed sed nisl facilisis, eleifend \n",
    "libero sit amet, sollicitudin risus. Nunc ex urna, pellentesque \n",
    "quis tincidunt quis, sagittis ut lacus. Praesent cursus semper enim,\n",
    "et varius augue sollicitudin nec. Nam quis neque in nunc tristique \n",
    "hendrerit sit amet sit amet quam. Nam interdum ligula \n",
    "sit amet tincidunt aliquet. Pellentesque vehicula tristique luctus.\n",
    "Donec nisi nunc, hendrerit et scelerisque ac, gravida sed metus.   \n",
    "\"\"\"\n",
    "\n",
    "with open(\"compress.txt\", \"w\") as file:\n",
    "    file.write(data)\n",
    "\n",
    "with gzip.open(\"compress.gz\", \"w\") as file:\n",
    "    file.write(data.encode())\n",
    "\n",
    "with bz2.open(\"compress.bz\", \"w\") as file:\n",
    "    file.write(data.encode())\n",
    "\n",
    "with zstd.open(\"compress.zstd\", \"w\") as file:\n",
    "    file.write(data)"
   ]
  },
  {
   "cell_type": "code",
   "execution_count": 15,
   "id": "c0e96572",
   "metadata": {},
   "outputs": [
    {
     "name": "stdout",
     "output_type": "stream",
     "text": [
      "-rw-r--r-- 1 ruben users 379 Mar 27 09:55 compress.bz\n",
      "-rw-r--r-- 1 ruben users 362 Mar 27 09:55 compress.gz\n",
      "-rw-r--r-- 1 ruben users 603 Mar 27 09:55 compress.txt\n",
      "-rw-r--r-- 1 ruben users 349 Mar 27 09:55 compress.zstd\n",
      "compress.bz:   bzip2 compressed data, block size = 900k\n",
      "compress.gz:   gzip compressed data, was \"compress\", last modified: Mon Mar 27 07:55:54 2023, max compression, original size modulo 2^32 603\n",
      "compress.txt:  ASCII text\n",
      "compress.zstd: Zstandard compressed data (v0.8+), Dictionary ID: None\n"
     ]
    }
   ],
   "source": [
    "!ls -l compress.*\n",
    "!file compress.*"
   ]
  },
  {
   "cell_type": "code",
   "execution_count": 18,
   "id": "95b954fb",
   "metadata": {},
   "outputs": [
    {
     "name": "stdout",
     "output_type": "stream",
     "text": [
      "\n",
      "Demasiadas palabras y muy poco espacio en disco.\n",
      "\n",
      "    Vamos a guardar esto comprimido.\n",
      "\n",
      "Lorem ipsum dolor sit amet, consectetur adipiscing elit.\n",
      "Nunc fringilla sagittis ante. Sed sed nisl facilisis, eleifend \n",
      "libero sit amet, sollicitudin risus. Nunc ex urna, pellentesque \n",
      "quis tincidunt quis, sagittis ut lacus. Praesent cursus semper enim,\n",
      "et varius augue sollicitudin nec. Nam quis neque in nunc tristique \n",
      "hendrerit sit amet sit amet quam. Nam interdum ligula \n",
      "sit amet tincidunt aliquet. Pellentesque vehicula tristique luctus.\n",
      "Donec nisi nunc, hendrerit et scelerisque ac, gravida sed metus.   \n",
      "\n"
     ]
    }
   ],
   "source": [
    "with gzip.open(\"compress.gz\", \"r\") as file:\n",
    "    output = file.read()\n",
    "print(output.decode())"
   ]
  },
  {
   "cell_type": "markdown",
   "id": "3d093ad5",
   "metadata": {
    "slideshow": {
     "slide_type": "slide"
    }
   },
   "source": [
    "# File Systems Limitations\n",
    " - Storage is not structured/ordered\n",
    "     - You can store any kind of data of any size in any file\n",
    "     - You can even store data and folders containing other type of data on the same folder. \n",
    "     - Structuring and ordering the data depends on the user\n",
    " - Storage is not indexed\n",
    "     - Searching on the FS tree means walking through all the directories and files.\n",
    " - Coherence and duplicity\n",
    "     - User can store the same data in different locations, or even contradictory data.\n",
    " \n",
    " ## One big file or many little files?\n",
    " - If I store all my data in a big file, I will need to load all the big file every time I need to read something... And my computer may crash\n",
    " - But if i store it in little files & folders... accessing many of them will slow down everything\n",
    " \n",
    " The answer: Structured data, Data storing/formating libraries, Databases"
   ]
  }
 ],
 "metadata": {
  "celltoolbar": "Slideshow",
  "kernelspec": {
   "display_name": "Python 3 (ipykernel)",
   "language": "python",
   "name": "python3"
  },
  "language_info": {
   "codemirror_mode": {
    "name": "ipython",
    "version": 3
   },
   "file_extension": ".py",
   "mimetype": "text/x-python",
   "name": "python",
   "nbconvert_exporter": "python",
   "pygments_lexer": "ipython3",
   "version": "3.9.10"
  }
 },
 "nbformat": 4,
 "nbformat_minor": 5
}

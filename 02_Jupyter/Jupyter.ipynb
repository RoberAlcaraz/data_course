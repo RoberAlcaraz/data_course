{
 "cells": [
  {
   "cell_type": "markdown",
   "metadata": {},
   "source": [
    "# Introduccion Jupyter notebook\n"
   ]
  },
  {
   "cell_type": "markdown",
   "metadata": {},
   "source": [
    "Jupyter notebook es una aplicación web que permite elaborar documentos interactivos que combinan código con texto, html, gráficos y otros recursos visuales. Esto lo convierte en una herramienta ideal para la enseñanza y la elaboración de trabajos en los que se requiera combinar la ejecución de código con una explicación del mismo.\n",
    "\n",
    "En esta breve introducción vamos a presentar las características principales del notebook, y a explicar las diferentes funcionalidades y tipos de celdas que están disponibles.\n",
    "\n",
    "Durante todo este taller de introducción al análisis de datos usaremos Jupyter notebooks para presentar los contenidos y ejercicios."
   ]
  },
  {
   "cell_type": "markdown",
   "metadata": {},
   "source": [
    "## Índice\n",
    "1. **[Tipos de celda](#1.-Tipos-de-celda)**\n",
    "    - [1.1 Código](#1.1-Celdas-de-código)\n",
    "    - [1.2 Markdown](#1.2-Celdas-de-markdown)\n",
    "    - [1.3 Celdas sin renderizar](#1.3-Celdas-sin-renderizar)\n",
    "2. **[Barra de herramientas](#2.-Barra-de-herramientas)**\n",
    "3. **[Comandos mágicos](#3.-Comandos-mágicos)**\n",
    "4. **[Atajos de teclado](#4.-Atajos-de-teclado)**\n",
    "5. **[Peligros a tener en cuenta](#5.-Peligros-a-tener-en-cuenta)**"
   ]
  },
  {
   "cell_type": "markdown",
   "metadata": {},
   "source": [
    "## [1.1](#Índice) Celdas de código"
   ]
  },
  {
   "cell_type": "markdown",
   "metadata": {},
   "source": [
    "Los notebooks estan pensados para poder ejecutar celdas de código. En este tutorial usaremos Python, pero tambien es posible utilizarlo con otros lenguajes de programación como Julia, R, C, etc. Esta posibilidad de utilizar diferentes lenguajes, se debe a que la interfaz de Jupyter notebook es compatible con diferentes kernels.\n",
    "\n",
    "Un kernel es el lenguaje de programación usado en el \"backend\" de Jupyter para ejecutar las celdas de código. Por ejemplo, en este caso estamos utilizando un kernel de Python 3.9, pero seria posible usar otros como el kernel de Python 2.7, un kernel de Julia, o de cualquier otro lenguaje compatible con Jupyter. \n",
    "\n",
    "En estas celdas es donde llevaremos a cabo nuestros análisis. Es posible ejecutarlas en el orden que queramos, ya que no es necesario que se ejecuten de forma secuencial."
   ]
  },
  {
   "cell_type": "code",
   "execution_count": 6,
   "metadata": {},
   "outputs": [
    {
     "name": "stdout",
     "output_type": "stream",
     "text": [
      "Hola mundo\n"
     ]
    },
    {
     "data": {
      "text/plain": [
       "2"
      ]
     },
     "execution_count": 6,
     "metadata": {},
     "output_type": "execute_result"
    }
   ],
   "source": [
    "string = \"Hola mundo\"\n",
    "print(string)\n",
    "a\n",
    "\n"
   ]
  },
  {
   "cell_type": "code",
   "execution_count": 3,
   "metadata": {},
   "outputs": [
    {
     "data": {
      "text/plain": [
       "2"
      ]
     },
     "execution_count": 3,
     "metadata": {},
     "output_type": "execute_result"
    }
   ],
   "source": [
    "a =2\n",
    "a"
   ]
  },
  {
   "cell_type": "markdown",
   "metadata": {},
   "source": [
    "### No hace falta print para representar una variable en el output de la celda"
   ]
  },
  {
   "cell_type": "code",
   "execution_count": 4,
   "metadata": {},
   "outputs": [
    {
     "data": {
      "text/plain": [
       "('Hola mundo', 1234)"
      ]
     },
     "execution_count": 4,
     "metadata": {},
     "output_type": "execute_result"
    }
   ],
   "source": [
    "data = string, 1234\n",
    "data"
   ]
  },
  {
   "cell_type": "code",
   "execution_count": 5,
   "metadata": {},
   "outputs": [
    {
     "data": {
      "text/plain": [
       "'Hola mundo'"
      ]
     },
     "execution_count": 5,
     "metadata": {},
     "output_type": "execute_result"
    }
   ],
   "source": [
    "data[0]"
   ]
  },
  {
   "cell_type": "markdown",
   "metadata": {},
   "source": [
    "### Las celdas de código comparten espacio de nombres"
   ]
  },
  {
   "cell_type": "code",
   "execution_count": 7,
   "metadata": {},
   "outputs": [],
   "source": [
    "def suma_dos_numeros(x, y):\n",
    "    return x + y\n",
    "\n",
    "num_1 = 6\n",
    "num_2 = 5"
   ]
  },
  {
   "cell_type": "code",
   "execution_count": 11,
   "metadata": {},
   "outputs": [
    {
     "data": {
      "text/plain": [
       "'Los números 6 y 5 suman 11'"
      ]
     },
     "execution_count": 11,
     "metadata": {},
     "output_type": "execute_result"
    }
   ],
   "source": [
    "h=f\"Los números {num_1} y {num_2} suman {suma_dos_numeros(num_1, num_2)}\"\n",
    "h"
   ]
  },
  {
   "cell_type": "markdown",
   "metadata": {},
   "source": [
    "## [1.2](#Índice) Celdas de markdown"
   ]
  },
  {
   "cell_type": "code",
   "execution_count": null,
   "metadata": {},
   "outputs": [],
   "source": []
  },
  {
   "cell_type": "markdown",
   "metadata": {},
   "source": [
    "Una de las mayores ventajas de Jupyter es la capacidad de escribir Markdown en las celdas para añadir explicaciones y comentarios a las celdas de código, pero también ecuaciones en latex y mucho más. Esto es una herramienta muy potente para explicar a alguien o a ti mismo lo que tu código hace, para hacer un informe, un trabajo, escribir en un blog...\n",
    "\n",
    "Markdown es un lenguaje aparte, no te preocupes por él demasiado ahora, irás aprendiendo sobre la marcha... Para cuando lo vayas necesitando, aquí tienes una [chuleta](https://github.com/adam-p/markdown-here/wiki/Markdown-Cheatsheet)."
   ]
  },
  {
   "cell_type": "markdown",
   "metadata": {},
   "source": []
  },
  {
   "cell_type": "markdown",
   "metadata": {},
   "source": [
    "<h1>Titulo</h1>\n",
    "\n",
    "* lista1\n",
    "\n",
    "* lista2\n",
    "    1. hola\n",
    "    2. adios\n",
    "        - hha\n",
    "        - fasdfs\n",
    "\n",
    "`èsto es una pieza de código`\n",
    "\n",
    "```python\n",
    "\n",
    "def fn():\n",
    "    #esto es una funcion\n",
    "    pass\n",
    "```\n",
    "### LaTeX:\n",
    "* Formula: $ e^{i \\pi} + 1 = 0 $\n",
    "* Sección:\n",
    "$$\n",
    "\\frac{arg 1}{arg 2} - x^2 = e^{i\\pi}\\\\\n",
    "A_i * B_{ij} = \\sqrt[n]{arg}\n",
    "$$"
   ]
  },
  {
   "cell_type": "markdown",
   "metadata": {},
   "source": [
    "## [1.3](#Índice) Celdas sin renderizar"
   ]
  },
  {
   "cell_type": "raw",
   "metadata": {},
   "source": [
    "Esto es una celda que no va a renderizarse\n",
    "\n",
    "def function():\n",
    "    print(\"Hello world\")\n",
    "    \n",
    "function()\n",
    "\n",
    "# Not a title"
   ]
  },
  {
   "cell_type": "markdown",
   "metadata": {},
   "source": [
    "# [2.](#Índice) Barra de herramientas"
   ]
  },
  {
   "cell_type": "markdown",
   "metadata": {},
   "source": [
    "En la Parte superior del notebook podéis encontrar la barra de herramientas. Cada uno de los botones ofrece acceso rápido a una funcionalidad diferente."
   ]
  },
  {
   "cell_type": "markdown",
   "metadata": {},
   "source": [
    "<div id=\"maintoolbar-container\" class=\"container toolbar\"><div class=\"btn-group\" id=\"save-notbook\"><button class=\"btn btn-default\" title=\"Save and Checkpoint\" data-jupyter-action=\"jupyter-notebook:save-notebook\"><i class=\"fa-save fa\"></i></button></div><div class=\"btn-group\" id=\"insert_above_below\"><button class=\"btn btn-default\" title=\"insert cell below\" data-jupyter-action=\"jupyter-notebook:insert-cell-below\"><i class=\"fa-plus fa\"></i></button></div><div class=\"btn-group\" id=\"cut_copy_paste\"><button class=\"btn btn-default\" title=\"cut selected cells\" data-jupyter-action=\"jupyter-notebook:cut-cell\"><i class=\"fa-cut fa\"></i></button><button class=\"btn btn-default\" title=\"copy selected cells\" data-jupyter-action=\"jupyter-notebook:copy-cell\"><i class=\"fa-copy fa\"></i></button><button class=\"btn btn-default\" title=\"paste cells below\" data-jupyter-action=\"jupyter-notebook:paste-cell-below\"><i class=\"fa-paste fa\"></i></button></div><div class=\"btn-group\" id=\"move_up_down\"><button class=\"btn btn-default\" title=\"move selected cells up\" data-jupyter-action=\"jupyter-notebook:move-cell-up\"><i class=\"fa-arrow-up fa\"></i></button><button class=\"btn btn-default\" title=\"move selected cells down\" data-jupyter-action=\"jupyter-notebook:move-cell-down\"><i class=\"fa-arrow-down fa\"></i></button></div><div class=\"btn-group\" id=\"run_int\"><button class=\"btn btn-default\" title=\"Run\" data-jupyter-action=\"jupyter-notebook:run-cell-and-select-next\"><i class=\"fa-step-forward fa\"></i><span class=\"toolbar-btn-label\">Run</span></button><button class=\"btn btn-default\" title=\"interrupt the kernel\" data-jupyter-action=\"jupyter-notebook:interrupt-kernel\"><i class=\"fa-stop fa\"></i></button><button class=\"btn btn-default\" title=\"restart the kernel (with dialog)\" data-jupyter-action=\"jupyter-notebook:confirm-restart-kernel\"><i class=\"fa-repeat fa\"></i></button><button class=\"btn btn-default\" title=\"restart the kernel, then re-run the whole notebook (with dialog)\" data-jupyter-action=\"jupyter-notebook:confirm-restart-kernel-and-run-all-cells\"><i class=\"fa-forward fa\"></i></button></div><select id=\"cell_type\" class=\"form-control select-xs\"><option value=\"code\">Code</option><option value=\"markdown\">Markdown</option><option value=\"raw\">Raw NBConvert</option><option value=\"heading\">Heading</option><option value=\"multiselect\" disabled=\"disabled\" style=\"display: none;\">-</option></select><div class=\"btn-group\"><button class=\"btn btn-default\" title=\"open the command palette\" data-jupyter-action=\"jupyter-notebook:show-command-palette\"><i class=\"fa-keyboard-o fa\"></i></button></div></div>"
   ]
  },
  {
   "cell_type": "markdown",
   "metadata": {},
   "source": [
    "* <button class=\"btn btn-default\" title=\"Save and Checkpoint\" data-jupyter-action=\"jupyter-notebook:save-notebook\"><i class=\"fa-save fa\"></i></button>  Guardar el notebook.\n",
    "\n",
    "* <button class=\"btn btn-default\" title=\"insert cell below\" data-jupyter-action=\"jupyter-notebook:insert-cell-below\"><i class=\"fa-plus fa\"></i></button> Añadir una celda nueva a continuación de la que se tiene seleccionada actualmente.\n",
    "\n",
    "* <button class=\"btn btn-default\" title=\"cut selected cells\" data-jupyter-action=\"jupyter-notebook:cut-cell\"><i class=\"fa-cut fa\"></i></button> Cortar celdas seleccionadas\n",
    "\n",
    "* <button class=\"btn btn-default\" title=\"copy selected cells\" data-jupyter-action=\"jupyter-notebook:copy-cell\"><i class=\"fa-copy fa\"></i></button> Copiar celdas seleccionadas\n",
    "\n",
    "* <button class=\"btn btn-default\" title=\"paste cells below\" data-jupyter-action=\"jupyter-notebook:paste-cell-below\"><i class=\"fa-paste fa\"></i></button> Pegar celdas a continuación de la celda seleccionada\n",
    "\n",
    "* <button class=\"btn btn-default\" title=\"move selected cells up\" data-jupyter-action=\"jupyter-notebook:move-cell-up\"><i class=\"fa-arrow-up fa\"></i></button> Desplazar celdas seleccionadas hacia arriba\n",
    "\n",
    "* <button class=\"btn btn-default\" title=\"move selected cells down\" data-jupyter-action=\"jupyter-notebook:move-cell-down\"><i class=\"fa-arrow-down fa\"></i></button> Desplazar celdas seleccionadas hacia abajo\n",
    "\n",
    "* <button class=\"btn btn-default\" title=\"Run\" data-jupyter-action=\"jupyter-notebook:run-cell-and-select-next\"><i class=\"fa-step-forward fa\"></i><span class=\"toolbar-btn-label\">Run</span></button> Ejecuta la celda seleccionada\n",
    "\n",
    "* <button class=\"btn btn-default\" title=\"interrupt the kernel\" data-jupyter-action=\"jupyter-notebook:interrupt-kernel\"><i class=\"fa-stop fa\"></i></button> Interrumpe la ejecución de código\n",
    "\n",
    "* <button class=\"btn btn-default\" title=\"restart the kernel (with dialog)\" data-jupyter-action=\"jupyter-notebook:confirm-restart-kernel\"><i class=\"fa-repeat fa\"></i></button> Reinicia el kernel del intérprete de código\n",
    "\n",
    "* <button class=\"btn btn-default\" title=\"restart the kernel, then re-run the whole notebook (with dialog)\" data-jupyter-action=\"jupyter-notebook:confirm-restart-kernel-and-run-all-cells\"><i class=\"fa-forward fa\"></i></button> Reinicia el kernel y ejecuta todas las celdas en orden\n",
    "\n",
    "* <select id=\"cell_type\" class=\"form-control select-xs\" style=\"width: 6em;\"><option value=\"code\">Code</option><option value=\"markdown\">Markdown</option><option value=\"raw\">Raw NBConvert</option><option value=\"heading\">Heading</option><option value=\"multiselect\" disabled=\"disabled\" style=\"display: none; width: 6em;\">-</option></select> Selecciona el tipo de celda"
   ]
  },
  {
   "cell_type": "markdown",
   "metadata": {},
   "source": [
    "# [3.](#Índice) Comandos mágicos"
   ]
  },
  {
   "cell_type": "markdown",
   "metadata": {},
   "source": [
    "Existen diferentes tipos de comando mágicos en Jupyter. Los que empiezan por `%` se aplican solo a una linea de código, y los que empiezan por `%%` se aplican a la celda completa. \n",
    "\n",
    "Para más información sobre los comandos mágicos haz click [aquí](https://ipython.readthedocs.io/en/stable/interactive/magics.html)."
   ]
  },
  {
   "cell_type": "markdown",
   "metadata": {},
   "source": [
    "### Medir el tiempo de ejecucion de una celda"
   ]
  },
  {
   "cell_type": "code",
   "execution_count": 13,
   "metadata": {},
   "outputs": [
    {
     "name": "stdout",
     "output_type": "stream",
     "text": [
      "CPU times: user 45 µs, sys: 0 ns, total: 45 µs\n",
      "Wall time: 47 µs\n"
     ]
    }
   ],
   "source": [
    "%%time\n",
    "var = [1+i for i in range(1000)]"
   ]
  },
  {
   "cell_type": "code",
   "execution_count": 15,
   "metadata": {},
   "outputs": [
    {
     "name": "stdout",
     "output_type": "stream",
     "text": [
      "CPU times: user 40 µs, sys: 0 ns, total: 40 µs\n",
      "Wall time: 41.5 µs\n"
     ]
    }
   ],
   "source": [
    "%timeit -n 100 var = [1+i for i in range(1000)]"
   ]
  },
  {
   "cell_type": "code",
   "execution_count": 8,
   "metadata": {},
   "outputs": [
    {
     "name": "stdout",
     "output_type": "stream",
     "text": [
      "33.9 µs ± 477 ns per loop (mean ± std. dev. of 7 runs, 100 loops each)\n"
     ]
    }
   ],
   "source": [
    "%%timeit -n 100\n",
    "var = [1+i for i in range(1000)]"
   ]
  },
  {
   "cell_type": "markdown",
   "metadata": {},
   "source": [
    "### Exportar celda como archivo"
   ]
  },
  {
   "cell_type": "code",
   "execution_count": null,
   "metadata": {},
   "outputs": [],
   "source": [
    "%%file text.txt\n",
    "\"Curso Python IFISC 2023\""
   ]
  },
  {
   "cell_type": "markdown",
   "metadata": {},
   "source": [
    "### Escribir HTML en una celda"
   ]
  },
  {
   "cell_type": "code",
   "execution_count": 10,
   "metadata": {},
   "outputs": [
    {
     "data": {
      "text/html": [
       "<div style=\"background-color: red; width=1em; height: 3em; text-align: center;\">Un div rojo</div> \n"
      ],
      "text/plain": [
       "<IPython.core.display.HTML object>"
      ]
     },
     "metadata": {},
     "output_type": "display_data"
    }
   ],
   "source": [
    "%%HTML\n",
    "<div style=\"background-color: red; width=1em; height: 3em; text-align: center;\">Un div rojo</div> "
   ]
  },
  {
   "cell_type": "markdown",
   "metadata": {},
   "source": [
    "<div style=\"background-color: red; width=1em; height: 3em; text-align: center;\">Un div rojo</div> "
   ]
  },
  {
   "cell_type": "markdown",
   "metadata": {},
   "source": [
    "# [4.](#Índice) Atajos de teclado"
   ]
  },
  {
   "cell_type": "markdown",
   "metadata": {},
   "source": [
    "Además, existen múltiples atajos de teclado para llevar a cabo las funciones más comunes. Se puede acceder a la lista completa de atajos en la pestaña `help` del menú superior, pero a continuación expondremos algunos de los más útiles.\n",
    "\n",
    "- `Shift + Enter`: Ejecutar celda.\n",
    "- `Alt + Enter`: Ejecutar celda y añadir una celda vacia a continuación de la celda actual.\n",
    "- `Esc`(en modo edición): Pasar a modo comando\n",
    "- `m`(en modo comando): Convertir la celda a tipo Markdown.\n",
    "- `y`(en modo comando): Convertir la celda a tipo código.\n",
    "- `Enter`(en modo comando): Pasar a modo edición."
   ]
  },
  {
   "cell_type": "markdown",
   "metadata": {},
   "source": [
    "# [5.](#Índice) Peligros a tener en cuenta"
   ]
  },
  {
   "cell_type": "markdown",
   "metadata": {},
   "source": [
    " Los notebooks de jupyter son muy prácticos para hacer pruebas de concepto, pero no para producción\n",
    " * Dificultad para mantener una estructura de código adecuada\n",
    " * Saltar entre celdas puede provocar que fácilmente se rompa el \"Current working state\". Esto puede provocar:\n",
    "   * Resultados incorrectos\n",
    "   * Experimentos irreproducibles\n",
    "   \n",
    "Antes de pasar a producción o hacer calculos/simulaciones definitivas... convertir en script.\n",
    " * Cell > Download as > Python (.py)"
   ]
  },
  {
   "cell_type": "code",
   "execution_count": 21,
   "metadata": {},
   "outputs": [],
   "source": [
    "import math\n",
    "#Parametros iniciales\n",
    "a = 3\n",
    "b = 4\n",
    "\n",
    "#Funcion de cálculo\n",
    "def compute(a,b):\n",
    "  c = a * b\n",
    "  d = a + b\n",
    "  return c,d"
   ]
  },
  {
   "cell_type": "code",
   "execution_count": 22,
   "metadata": {},
   "outputs": [
    {
     "name": "stdout",
     "output_type": "stream",
     "text": [
      "C = 12\n",
      "D = 7\n"
     ]
    }
   ],
   "source": [
    "c,d = compute(a,b)\n",
    "print(f\"C = {c}\\nD = {d}\")"
   ]
  },
  {
   "cell_type": "markdown",
   "metadata": {},
   "source": [
    "**¿Puedo conseguir esto?**\n",
    "  * C < 30  \n",
    "  * D > 10"
   ]
  },
  {
   "cell_type": "code",
   "execution_count": 19,
   "metadata": {},
   "outputs": [],
   "source": [
    "b = 8"
   ]
  },
  {
   "cell_type": "code",
   "execution_count": 242,
   "metadata": {},
   "outputs": [],
   "source": [
    "a = 4"
   ]
  },
  {
   "cell_type": "code",
   "execution_count": 246,
   "metadata": {},
   "outputs": [],
   "source": [
    "b = 7"
   ]
  },
  {
   "cell_type": "code",
   "execution_count": 251,
   "metadata": {},
   "outputs": [],
   "source": [
    "c = c**2"
   ]
  },
  {
   "cell_type": "code",
   "execution_count": 252,
   "metadata": {},
   "outputs": [
    {
     "name": "stdout",
     "output_type": "stream",
     "text": [
      "E = 17.32050807568877\n"
     ]
    }
   ],
   "source": [
    "e = math.sqrt(c * d) / b\n",
    "print(f\"E = {e}\")"
   ]
  }
 ],
 "metadata": {
  "kernelspec": {
   "display_name": "Python 3 (ipykernel)",
   "language": "python",
   "name": "python3"
  },
  "language_info": {
   "codemirror_mode": {
    "name": "ipython",
    "version": 3
   },
   "file_extension": ".py",
   "mimetype": "text/x-python",
   "name": "python",
   "nbconvert_exporter": "python",
   "pygments_lexer": "ipython3",
   "version": "3.9.10"
  }
 },
 "nbformat": 4,
 "nbformat_minor": 2
}

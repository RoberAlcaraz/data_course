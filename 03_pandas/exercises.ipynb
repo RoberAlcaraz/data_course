{
 "cells": [
  {
   "cell_type": "markdown",
   "id": "d3796649",
   "metadata": {},
   "source": [
    "## Exercise 0\n",
    "\n",
    "Play with the data downloaded from [JHU CSSE COVID-19 Dataset](https://github.com/CSSEGISandData/COVID-19/tree/master/csse_covid_19_data)"
   ]
  },
  {
   "cell_type": "code",
   "execution_count": null,
   "id": "10e0f935",
   "metadata": {},
   "outputs": [],
   "source": []
  },
  {
   "cell_type": "markdown",
   "id": "5b384095",
   "metadata": {},
   "source": [
    "## Exercise 1\n",
    "\n",
    "Which countries do have data per provinces or states?"
   ]
  },
  {
   "cell_type": "code",
   "execution_count": null,
   "id": "669d8785",
   "metadata": {},
   "outputs": [],
   "source": []
  },
  {
   "cell_type": "markdown",
   "id": "7b0149f4",
   "metadata": {},
   "source": [
    "## Exercise 2\n",
    "\n",
    "Which countries are in America?\n",
    "(if you have more than one solution, can you check which is faster?)"
   ]
  },
  {
   "cell_type": "code",
   "execution_count": null,
   "id": "e3c2b792",
   "metadata": {},
   "outputs": [],
   "source": []
  },
  {
   "cell_type": "markdown",
   "id": "6b2eb57c",
   "metadata": {},
   "source": [
    "## Exercise 3\n",
    "\n",
    "For the countries with \"States\" data, find total confirmed per day"
   ]
  },
  {
   "cell_type": "code",
   "execution_count": null,
   "id": "26fc959d",
   "metadata": {},
   "outputs": [],
   "source": []
  },
  {
   "cell_type": "markdown",
   "id": "cb2c8702",
   "metadata": {},
   "source": [
    "## Exercise 4"
   ]
  },
  {
   "cell_type": "markdown",
   "id": "fc16748b",
   "metadata": {},
   "source": [
    "Total confirmed cases since 2020"
   ]
  },
  {
   "cell_type": "code",
   "execution_count": null,
   "id": "0e2294ee",
   "metadata": {},
   "outputs": [],
   "source": []
  },
  {
   "cell_type": "markdown",
   "id": "e80cc777",
   "metadata": {},
   "source": [
    "## Exersise 5\n",
    "\n",
    "Number of new cases per day"
   ]
  },
  {
   "cell_type": "code",
   "execution_count": 47,
   "id": "f84d6490",
   "metadata": {},
   "outputs": [],
   "source": []
  },
  {
   "cell_type": "markdown",
   "id": "52f3655b",
   "metadata": {},
   "source": [
    "## Exersise 6\n",
    "\n",
    "Peak per country"
   ]
  },
  {
   "cell_type": "code",
   "execution_count": null,
   "id": "9e09d5ca",
   "metadata": {},
   "outputs": [],
   "source": []
  },
  {
   "cell_type": "markdown",
   "id": "d417d82e",
   "metadata": {},
   "source": [
    "## Exercise 7\n",
    "\n",
    "Peak date per country"
   ]
  },
  {
   "cell_type": "code",
   "execution_count": null,
   "id": "293f69bf",
   "metadata": {},
   "outputs": [],
   "source": []
  },
  {
   "cell_type": "markdown",
   "id": "dac6886b",
   "metadata": {},
   "source": [
    "## Exercise 8 \n",
    "Is recovered a good dataset? and deaths?"
   ]
  },
  {
   "cell_type": "code",
   "execution_count": 27,
   "id": "37347d5a",
   "metadata": {},
   "outputs": [],
   "source": []
  },
  {
   "cell_type": "markdown",
   "id": "0bd5cb62",
   "metadata": {},
   "source": [
    "## Exercuse 9\n",
    "\n",
    "Get % of infected in Spain 1/jan/2021"
   ]
  },
  {
   "cell_type": "code",
   "execution_count": null,
   "id": "8e6af1a5",
   "metadata": {},
   "outputs": [],
   "source": []
  }
 ],
 "metadata": {
  "kernelspec": {
   "display_name": "Python 3 (ipykernel)",
   "language": "python",
   "name": "python3"
  },
  "language_info": {
   "codemirror_mode": {
    "name": "ipython",
    "version": 3
   },
   "file_extension": ".py",
   "mimetype": "text/x-python",
   "name": "python",
   "nbconvert_exporter": "python",
   "pygments_lexer": "ipython3",
   "version": "3.11.0"
  }
 },
 "nbformat": 4,
 "nbformat_minor": 5
}
